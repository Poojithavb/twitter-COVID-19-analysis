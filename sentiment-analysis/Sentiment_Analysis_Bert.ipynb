{
  "nbformat": 4,
  "nbformat_minor": 0,
  "metadata": {
    "colab": {
      "name": "Sentiment_Analysis_Bert.ipynb",
      "provenance": [],
      "collapsed_sections": [],
      "toc_visible": true,
      "mount_file_id": "18p_TbSMIojVkd9OtecKy13N6qByqaJ_u",
      "authorship_tag": "ABX9TyOESG1/XTzDhbG5/Qowv4A0",
      "include_colab_link": true
    },
    "kernelspec": {
      "name": "python3",
      "display_name": "Python 3"
    },
    "accelerator": "GPU",
    "widgets": {
      "application/vnd.jupyter.widget-state+json": {
        "6532b9c3712346628339a9c2bbe0a8a8": {
          "model_module": "@jupyter-widgets/controls",
          "model_name": "HBoxModel",
          "state": {
            "_view_name": "HBoxView",
            "_dom_classes": [],
            "_model_name": "HBoxModel",
            "_view_module": "@jupyter-widgets/controls",
            "_model_module_version": "1.5.0",
            "_view_count": null,
            "_view_module_version": "1.5.0",
            "box_style": "",
            "layout": "IPY_MODEL_3aa62c8baf96419788dedac131a63e86",
            "_model_module": "@jupyter-widgets/controls",
            "children": [
              "IPY_MODEL_3113422d1d65456c8bab1d95e013c2cf",
              "IPY_MODEL_b9f4d00b533d4a16aaf91577ae79cbb9"
            ]
          }
        },
        "3aa62c8baf96419788dedac131a63e86": {
          "model_module": "@jupyter-widgets/base",
          "model_name": "LayoutModel",
          "state": {
            "_view_name": "LayoutView",
            "grid_template_rows": null,
            "right": null,
            "justify_content": null,
            "_view_module": "@jupyter-widgets/base",
            "overflow": null,
            "_model_module_version": "1.2.0",
            "_view_count": null,
            "flex_flow": null,
            "width": null,
            "min_width": null,
            "border": null,
            "align_items": null,
            "bottom": null,
            "_model_module": "@jupyter-widgets/base",
            "top": null,
            "grid_column": null,
            "overflow_y": null,
            "overflow_x": null,
            "grid_auto_flow": null,
            "grid_area": null,
            "grid_template_columns": null,
            "flex": null,
            "_model_name": "LayoutModel",
            "justify_items": null,
            "grid_row": null,
            "max_height": null,
            "align_content": null,
            "visibility": null,
            "align_self": null,
            "height": null,
            "min_height": null,
            "padding": null,
            "grid_auto_rows": null,
            "grid_gap": null,
            "max_width": null,
            "order": null,
            "_view_module_version": "1.2.0",
            "grid_template_areas": null,
            "object_position": null,
            "object_fit": null,
            "grid_auto_columns": null,
            "margin": null,
            "display": null,
            "left": null
          }
        },
        "3113422d1d65456c8bab1d95e013c2cf": {
          "model_module": "@jupyter-widgets/controls",
          "model_name": "FloatProgressModel",
          "state": {
            "_view_name": "ProgressView",
            "style": "IPY_MODEL_57faaef16af9406f8db8f8c3b22550ba",
            "_dom_classes": [],
            "description": "Downloading: 100%",
            "_model_name": "FloatProgressModel",
            "bar_style": "success",
            "max": 231508,
            "_view_module": "@jupyter-widgets/controls",
            "_model_module_version": "1.5.0",
            "value": 231508,
            "_view_count": null,
            "_view_module_version": "1.5.0",
            "orientation": "horizontal",
            "min": 0,
            "description_tooltip": null,
            "_model_module": "@jupyter-widgets/controls",
            "layout": "IPY_MODEL_5db05e8d7f6e4eacad10fbcc839b4130"
          }
        },
        "b9f4d00b533d4a16aaf91577ae79cbb9": {
          "model_module": "@jupyter-widgets/controls",
          "model_name": "HTMLModel",
          "state": {
            "_view_name": "HTMLView",
            "style": "IPY_MODEL_cf4cb07c4a874f1a8ee279d34e201b1d",
            "_dom_classes": [],
            "description": "",
            "_model_name": "HTMLModel",
            "placeholder": "​",
            "_view_module": "@jupyter-widgets/controls",
            "_model_module_version": "1.5.0",
            "value": " 232k/232k [00:00&lt;00:00, 796kB/s]",
            "_view_count": null,
            "_view_module_version": "1.5.0",
            "description_tooltip": null,
            "_model_module": "@jupyter-widgets/controls",
            "layout": "IPY_MODEL_94845b493b1847fd821881237ca5a9dd"
          }
        },
        "57faaef16af9406f8db8f8c3b22550ba": {
          "model_module": "@jupyter-widgets/controls",
          "model_name": "ProgressStyleModel",
          "state": {
            "_view_name": "StyleView",
            "_model_name": "ProgressStyleModel",
            "description_width": "initial",
            "_view_module": "@jupyter-widgets/base",
            "_model_module_version": "1.5.0",
            "_view_count": null,
            "_view_module_version": "1.2.0",
            "bar_color": null,
            "_model_module": "@jupyter-widgets/controls"
          }
        },
        "5db05e8d7f6e4eacad10fbcc839b4130": {
          "model_module": "@jupyter-widgets/base",
          "model_name": "LayoutModel",
          "state": {
            "_view_name": "LayoutView",
            "grid_template_rows": null,
            "right": null,
            "justify_content": null,
            "_view_module": "@jupyter-widgets/base",
            "overflow": null,
            "_model_module_version": "1.2.0",
            "_view_count": null,
            "flex_flow": null,
            "width": null,
            "min_width": null,
            "border": null,
            "align_items": null,
            "bottom": null,
            "_model_module": "@jupyter-widgets/base",
            "top": null,
            "grid_column": null,
            "overflow_y": null,
            "overflow_x": null,
            "grid_auto_flow": null,
            "grid_area": null,
            "grid_template_columns": null,
            "flex": null,
            "_model_name": "LayoutModel",
            "justify_items": null,
            "grid_row": null,
            "max_height": null,
            "align_content": null,
            "visibility": null,
            "align_self": null,
            "height": null,
            "min_height": null,
            "padding": null,
            "grid_auto_rows": null,
            "grid_gap": null,
            "max_width": null,
            "order": null,
            "_view_module_version": "1.2.0",
            "grid_template_areas": null,
            "object_position": null,
            "object_fit": null,
            "grid_auto_columns": null,
            "margin": null,
            "display": null,
            "left": null
          }
        },
        "cf4cb07c4a874f1a8ee279d34e201b1d": {
          "model_module": "@jupyter-widgets/controls",
          "model_name": "DescriptionStyleModel",
          "state": {
            "_view_name": "StyleView",
            "_model_name": "DescriptionStyleModel",
            "description_width": "",
            "_view_module": "@jupyter-widgets/base",
            "_model_module_version": "1.5.0",
            "_view_count": null,
            "_view_module_version": "1.2.0",
            "_model_module": "@jupyter-widgets/controls"
          }
        },
        "94845b493b1847fd821881237ca5a9dd": {
          "model_module": "@jupyter-widgets/base",
          "model_name": "LayoutModel",
          "state": {
            "_view_name": "LayoutView",
            "grid_template_rows": null,
            "right": null,
            "justify_content": null,
            "_view_module": "@jupyter-widgets/base",
            "overflow": null,
            "_model_module_version": "1.2.0",
            "_view_count": null,
            "flex_flow": null,
            "width": null,
            "min_width": null,
            "border": null,
            "align_items": null,
            "bottom": null,
            "_model_module": "@jupyter-widgets/base",
            "top": null,
            "grid_column": null,
            "overflow_y": null,
            "overflow_x": null,
            "grid_auto_flow": null,
            "grid_area": null,
            "grid_template_columns": null,
            "flex": null,
            "_model_name": "LayoutModel",
            "justify_items": null,
            "grid_row": null,
            "max_height": null,
            "align_content": null,
            "visibility": null,
            "align_self": null,
            "height": null,
            "min_height": null,
            "padding": null,
            "grid_auto_rows": null,
            "grid_gap": null,
            "max_width": null,
            "order": null,
            "_view_module_version": "1.2.0",
            "grid_template_areas": null,
            "object_position": null,
            "object_fit": null,
            "grid_auto_columns": null,
            "margin": null,
            "display": null,
            "left": null
          }
        },
        "87c89632cd07429a8d49959596591299": {
          "model_module": "@jupyter-widgets/controls",
          "model_name": "HBoxModel",
          "state": {
            "_view_name": "HBoxView",
            "_dom_classes": [],
            "_model_name": "HBoxModel",
            "_view_module": "@jupyter-widgets/controls",
            "_model_module_version": "1.5.0",
            "_view_count": null,
            "_view_module_version": "1.5.0",
            "box_style": "",
            "layout": "IPY_MODEL_b35fbf825fca4627ad83a51414e44ed5",
            "_model_module": "@jupyter-widgets/controls",
            "children": [
              "IPY_MODEL_fefae33f4dff49daaf5647b5d105811b",
              "IPY_MODEL_f2c688bff5a54e3d8474e4e4466da430"
            ]
          }
        },
        "b35fbf825fca4627ad83a51414e44ed5": {
          "model_module": "@jupyter-widgets/base",
          "model_name": "LayoutModel",
          "state": {
            "_view_name": "LayoutView",
            "grid_template_rows": null,
            "right": null,
            "justify_content": null,
            "_view_module": "@jupyter-widgets/base",
            "overflow": null,
            "_model_module_version": "1.2.0",
            "_view_count": null,
            "flex_flow": null,
            "width": null,
            "min_width": null,
            "border": null,
            "align_items": null,
            "bottom": null,
            "_model_module": "@jupyter-widgets/base",
            "top": null,
            "grid_column": null,
            "overflow_y": null,
            "overflow_x": null,
            "grid_auto_flow": null,
            "grid_area": null,
            "grid_template_columns": null,
            "flex": null,
            "_model_name": "LayoutModel",
            "justify_items": null,
            "grid_row": null,
            "max_height": null,
            "align_content": null,
            "visibility": null,
            "align_self": null,
            "height": null,
            "min_height": null,
            "padding": null,
            "grid_auto_rows": null,
            "grid_gap": null,
            "max_width": null,
            "order": null,
            "_view_module_version": "1.2.0",
            "grid_template_areas": null,
            "object_position": null,
            "object_fit": null,
            "grid_auto_columns": null,
            "margin": null,
            "display": null,
            "left": null
          }
        },
        "fefae33f4dff49daaf5647b5d105811b": {
          "model_module": "@jupyter-widgets/controls",
          "model_name": "FloatProgressModel",
          "state": {
            "_view_name": "ProgressView",
            "style": "IPY_MODEL_8693edd388ff4430a8c9381134080a78",
            "_dom_classes": [],
            "description": "Downloading: 100%",
            "_model_name": "FloatProgressModel",
            "bar_style": "success",
            "max": 433,
            "_view_module": "@jupyter-widgets/controls",
            "_model_module_version": "1.5.0",
            "value": 433,
            "_view_count": null,
            "_view_module_version": "1.5.0",
            "orientation": "horizontal",
            "min": 0,
            "description_tooltip": null,
            "_model_module": "@jupyter-widgets/controls",
            "layout": "IPY_MODEL_84ee5382edd145c7b74dde9d6b09abf7"
          }
        },
        "f2c688bff5a54e3d8474e4e4466da430": {
          "model_module": "@jupyter-widgets/controls",
          "model_name": "HTMLModel",
          "state": {
            "_view_name": "HTMLView",
            "style": "IPY_MODEL_4373d7aec6ca4c03911ff321e57f5d87",
            "_dom_classes": [],
            "description": "",
            "_model_name": "HTMLModel",
            "placeholder": "​",
            "_view_module": "@jupyter-widgets/controls",
            "_model_module_version": "1.5.0",
            "value": " 433/433 [00:06&lt;00:00, 67.0B/s]",
            "_view_count": null,
            "_view_module_version": "1.5.0",
            "description_tooltip": null,
            "_model_module": "@jupyter-widgets/controls",
            "layout": "IPY_MODEL_543e35bb3da14efa8e268dc7795f4321"
          }
        },
        "8693edd388ff4430a8c9381134080a78": {
          "model_module": "@jupyter-widgets/controls",
          "model_name": "ProgressStyleModel",
          "state": {
            "_view_name": "StyleView",
            "_model_name": "ProgressStyleModel",
            "description_width": "initial",
            "_view_module": "@jupyter-widgets/base",
            "_model_module_version": "1.5.0",
            "_view_count": null,
            "_view_module_version": "1.2.0",
            "bar_color": null,
            "_model_module": "@jupyter-widgets/controls"
          }
        },
        "84ee5382edd145c7b74dde9d6b09abf7": {
          "model_module": "@jupyter-widgets/base",
          "model_name": "LayoutModel",
          "state": {
            "_view_name": "LayoutView",
            "grid_template_rows": null,
            "right": null,
            "justify_content": null,
            "_view_module": "@jupyter-widgets/base",
            "overflow": null,
            "_model_module_version": "1.2.0",
            "_view_count": null,
            "flex_flow": null,
            "width": null,
            "min_width": null,
            "border": null,
            "align_items": null,
            "bottom": null,
            "_model_module": "@jupyter-widgets/base",
            "top": null,
            "grid_column": null,
            "overflow_y": null,
            "overflow_x": null,
            "grid_auto_flow": null,
            "grid_area": null,
            "grid_template_columns": null,
            "flex": null,
            "_model_name": "LayoutModel",
            "justify_items": null,
            "grid_row": null,
            "max_height": null,
            "align_content": null,
            "visibility": null,
            "align_self": null,
            "height": null,
            "min_height": null,
            "padding": null,
            "grid_auto_rows": null,
            "grid_gap": null,
            "max_width": null,
            "order": null,
            "_view_module_version": "1.2.0",
            "grid_template_areas": null,
            "object_position": null,
            "object_fit": null,
            "grid_auto_columns": null,
            "margin": null,
            "display": null,
            "left": null
          }
        },
        "4373d7aec6ca4c03911ff321e57f5d87": {
          "model_module": "@jupyter-widgets/controls",
          "model_name": "DescriptionStyleModel",
          "state": {
            "_view_name": "StyleView",
            "_model_name": "DescriptionStyleModel",
            "description_width": "",
            "_view_module": "@jupyter-widgets/base",
            "_model_module_version": "1.5.0",
            "_view_count": null,
            "_view_module_version": "1.2.0",
            "_model_module": "@jupyter-widgets/controls"
          }
        },
        "543e35bb3da14efa8e268dc7795f4321": {
          "model_module": "@jupyter-widgets/base",
          "model_name": "LayoutModel",
          "state": {
            "_view_name": "LayoutView",
            "grid_template_rows": null,
            "right": null,
            "justify_content": null,
            "_view_module": "@jupyter-widgets/base",
            "overflow": null,
            "_model_module_version": "1.2.0",
            "_view_count": null,
            "flex_flow": null,
            "width": null,
            "min_width": null,
            "border": null,
            "align_items": null,
            "bottom": null,
            "_model_module": "@jupyter-widgets/base",
            "top": null,
            "grid_column": null,
            "overflow_y": null,
            "overflow_x": null,
            "grid_auto_flow": null,
            "grid_area": null,
            "grid_template_columns": null,
            "flex": null,
            "_model_name": "LayoutModel",
            "justify_items": null,
            "grid_row": null,
            "max_height": null,
            "align_content": null,
            "visibility": null,
            "align_self": null,
            "height": null,
            "min_height": null,
            "padding": null,
            "grid_auto_rows": null,
            "grid_gap": null,
            "max_width": null,
            "order": null,
            "_view_module_version": "1.2.0",
            "grid_template_areas": null,
            "object_position": null,
            "object_fit": null,
            "grid_auto_columns": null,
            "margin": null,
            "display": null,
            "left": null
          }
        },
        "f75b91afed924422b847ba2dacff1275": {
          "model_module": "@jupyter-widgets/controls",
          "model_name": "HBoxModel",
          "state": {
            "_view_name": "HBoxView",
            "_dom_classes": [],
            "_model_name": "HBoxModel",
            "_view_module": "@jupyter-widgets/controls",
            "_model_module_version": "1.5.0",
            "_view_count": null,
            "_view_module_version": "1.5.0",
            "box_style": "",
            "layout": "IPY_MODEL_039aab53bf75497ba8ca89717936de32",
            "_model_module": "@jupyter-widgets/controls",
            "children": [
              "IPY_MODEL_d0152d0bc99d46bba68f672d65d1d4ef",
              "IPY_MODEL_0570f3ffb8814935aa89baac1ee1c7af"
            ]
          }
        },
        "039aab53bf75497ba8ca89717936de32": {
          "model_module": "@jupyter-widgets/base",
          "model_name": "LayoutModel",
          "state": {
            "_view_name": "LayoutView",
            "grid_template_rows": null,
            "right": null,
            "justify_content": null,
            "_view_module": "@jupyter-widgets/base",
            "overflow": null,
            "_model_module_version": "1.2.0",
            "_view_count": null,
            "flex_flow": null,
            "width": null,
            "min_width": null,
            "border": null,
            "align_items": null,
            "bottom": null,
            "_model_module": "@jupyter-widgets/base",
            "top": null,
            "grid_column": null,
            "overflow_y": null,
            "overflow_x": null,
            "grid_auto_flow": null,
            "grid_area": null,
            "grid_template_columns": null,
            "flex": null,
            "_model_name": "LayoutModel",
            "justify_items": null,
            "grid_row": null,
            "max_height": null,
            "align_content": null,
            "visibility": null,
            "align_self": null,
            "height": null,
            "min_height": null,
            "padding": null,
            "grid_auto_rows": null,
            "grid_gap": null,
            "max_width": null,
            "order": null,
            "_view_module_version": "1.2.0",
            "grid_template_areas": null,
            "object_position": null,
            "object_fit": null,
            "grid_auto_columns": null,
            "margin": null,
            "display": null,
            "left": null
          }
        },
        "d0152d0bc99d46bba68f672d65d1d4ef": {
          "model_module": "@jupyter-widgets/controls",
          "model_name": "FloatProgressModel",
          "state": {
            "_view_name": "ProgressView",
            "style": "IPY_MODEL_9436c2f472674c6fb1f4cf25aad95041",
            "_dom_classes": [],
            "description": "Downloading: 100%",
            "_model_name": "FloatProgressModel",
            "bar_style": "success",
            "max": 440473133,
            "_view_module": "@jupyter-widgets/controls",
            "_model_module_version": "1.5.0",
            "value": 440473133,
            "_view_count": null,
            "_view_module_version": "1.5.0",
            "orientation": "horizontal",
            "min": 0,
            "description_tooltip": null,
            "_model_module": "@jupyter-widgets/controls",
            "layout": "IPY_MODEL_e986b439f00f47718fd7056a92369adc"
          }
        },
        "0570f3ffb8814935aa89baac1ee1c7af": {
          "model_module": "@jupyter-widgets/controls",
          "model_name": "HTMLModel",
          "state": {
            "_view_name": "HTMLView",
            "style": "IPY_MODEL_b82b8dffaa44414a867da7bb2f908641",
            "_dom_classes": [],
            "description": "",
            "_model_name": "HTMLModel",
            "placeholder": "​",
            "_view_module": "@jupyter-widgets/controls",
            "_model_module_version": "1.5.0",
            "value": " 440M/440M [00:06&lt;00:00, 71.4MB/s]",
            "_view_count": null,
            "_view_module_version": "1.5.0",
            "description_tooltip": null,
            "_model_module": "@jupyter-widgets/controls",
            "layout": "IPY_MODEL_b97ee5a2825d411da91a852dc5f9c27c"
          }
        },
        "9436c2f472674c6fb1f4cf25aad95041": {
          "model_module": "@jupyter-widgets/controls",
          "model_name": "ProgressStyleModel",
          "state": {
            "_view_name": "StyleView",
            "_model_name": "ProgressStyleModel",
            "description_width": "initial",
            "_view_module": "@jupyter-widgets/base",
            "_model_module_version": "1.5.0",
            "_view_count": null,
            "_view_module_version": "1.2.0",
            "bar_color": null,
            "_model_module": "@jupyter-widgets/controls"
          }
        },
        "e986b439f00f47718fd7056a92369adc": {
          "model_module": "@jupyter-widgets/base",
          "model_name": "LayoutModel",
          "state": {
            "_view_name": "LayoutView",
            "grid_template_rows": null,
            "right": null,
            "justify_content": null,
            "_view_module": "@jupyter-widgets/base",
            "overflow": null,
            "_model_module_version": "1.2.0",
            "_view_count": null,
            "flex_flow": null,
            "width": null,
            "min_width": null,
            "border": null,
            "align_items": null,
            "bottom": null,
            "_model_module": "@jupyter-widgets/base",
            "top": null,
            "grid_column": null,
            "overflow_y": null,
            "overflow_x": null,
            "grid_auto_flow": null,
            "grid_area": null,
            "grid_template_columns": null,
            "flex": null,
            "_model_name": "LayoutModel",
            "justify_items": null,
            "grid_row": null,
            "max_height": null,
            "align_content": null,
            "visibility": null,
            "align_self": null,
            "height": null,
            "min_height": null,
            "padding": null,
            "grid_auto_rows": null,
            "grid_gap": null,
            "max_width": null,
            "order": null,
            "_view_module_version": "1.2.0",
            "grid_template_areas": null,
            "object_position": null,
            "object_fit": null,
            "grid_auto_columns": null,
            "margin": null,
            "display": null,
            "left": null
          }
        },
        "b82b8dffaa44414a867da7bb2f908641": {
          "model_module": "@jupyter-widgets/controls",
          "model_name": "DescriptionStyleModel",
          "state": {
            "_view_name": "StyleView",
            "_model_name": "DescriptionStyleModel",
            "description_width": "",
            "_view_module": "@jupyter-widgets/base",
            "_model_module_version": "1.5.0",
            "_view_count": null,
            "_view_module_version": "1.2.0",
            "_model_module": "@jupyter-widgets/controls"
          }
        },
        "b97ee5a2825d411da91a852dc5f9c27c": {
          "model_module": "@jupyter-widgets/base",
          "model_name": "LayoutModel",
          "state": {
            "_view_name": "LayoutView",
            "grid_template_rows": null,
            "right": null,
            "justify_content": null,
            "_view_module": "@jupyter-widgets/base",
            "overflow": null,
            "_model_module_version": "1.2.0",
            "_view_count": null,
            "flex_flow": null,
            "width": null,
            "min_width": null,
            "border": null,
            "align_items": null,
            "bottom": null,
            "_model_module": "@jupyter-widgets/base",
            "top": null,
            "grid_column": null,
            "overflow_y": null,
            "overflow_x": null,
            "grid_auto_flow": null,
            "grid_area": null,
            "grid_template_columns": null,
            "flex": null,
            "_model_name": "LayoutModel",
            "justify_items": null,
            "grid_row": null,
            "max_height": null,
            "align_content": null,
            "visibility": null,
            "align_self": null,
            "height": null,
            "min_height": null,
            "padding": null,
            "grid_auto_rows": null,
            "grid_gap": null,
            "max_width": null,
            "order": null,
            "_view_module_version": "1.2.0",
            "grid_template_areas": null,
            "object_position": null,
            "object_fit": null,
            "grid_auto_columns": null,
            "margin": null,
            "display": null,
            "left": null
          }
        }
      }
    }
  },
  "cells": [
    {
      "cell_type": "markdown",
      "metadata": {
        "id": "view-in-github",
        "colab_type": "text"
      },
      "source": [
        "<a href=\"https://colab.research.google.com/github/rakshitha-sathyakumar/twitter-COVID-19-analysis/blob/master/sentiment-analysis/Sentiment_Analysis_Bert.ipynb\" target=\"_parent\"><img src=\"https://colab.research.google.com/assets/colab-badge.svg\" alt=\"Open In Colab\"/></a>"
      ]
    },
    {
      "cell_type": "code",
      "metadata": {
        "id": "DlSi5hNsVooH",
        "colab_type": "code",
        "colab": {
          "base_uri": "https://localhost:8080/",
          "height": 215
        },
        "outputId": "9af5d111-3367-4402-f857-08ae5b79e165"
      },
      "source": [
        "!pip install vaderSentiment"
      ],
      "execution_count": 1,
      "outputs": [
        {
          "output_type": "stream",
          "text": [
            "Collecting vaderSentiment\n",
            "\u001b[?25l  Downloading https://files.pythonhosted.org/packages/76/fc/310e16254683c1ed35eeb97386986d6c00bc29df17ce280aed64d55537e9/vaderSentiment-3.3.2-py2.py3-none-any.whl (125kB)\n",
            "\r\u001b[K     |██▋                             | 10kB 18.2MB/s eta 0:00:01\r\u001b[K     |█████▏                          | 20kB 2.9MB/s eta 0:00:01\r\u001b[K     |███████▉                        | 30kB 3.9MB/s eta 0:00:01\r\u001b[K     |██████████▍                     | 40kB 4.2MB/s eta 0:00:01\r\u001b[K     |█████████████                   | 51kB 3.4MB/s eta 0:00:01\r\u001b[K     |███████████████▋                | 61kB 3.7MB/s eta 0:00:01\r\u001b[K     |██████████████████▏             | 71kB 4.2MB/s eta 0:00:01\r\u001b[K     |████████████████████▉           | 81kB 4.5MB/s eta 0:00:01\r\u001b[K     |███████████████████████▍        | 92kB 4.9MB/s eta 0:00:01\r\u001b[K     |██████████████████████████      | 102kB 4.6MB/s eta 0:00:01\r\u001b[K     |████████████████████████████▋   | 112kB 4.6MB/s eta 0:00:01\r\u001b[K     |███████████████████████████████▏| 122kB 4.6MB/s eta 0:00:01\r\u001b[K     |████████████████████████████████| 133kB 4.6MB/s \n",
            "\u001b[?25hRequirement already satisfied: requests in /usr/local/lib/python3.6/dist-packages (from vaderSentiment) (2.23.0)\n",
            "Requirement already satisfied: idna<3,>=2.5 in /usr/local/lib/python3.6/dist-packages (from requests->vaderSentiment) (2.10)\n",
            "Requirement already satisfied: urllib3!=1.25.0,!=1.25.1,<1.26,>=1.21.1 in /usr/local/lib/python3.6/dist-packages (from requests->vaderSentiment) (1.24.3)\n",
            "Requirement already satisfied: chardet<4,>=3.0.2 in /usr/local/lib/python3.6/dist-packages (from requests->vaderSentiment) (3.0.4)\n",
            "Requirement already satisfied: certifi>=2017.4.17 in /usr/local/lib/python3.6/dist-packages (from requests->vaderSentiment) (2020.6.20)\n",
            "Installing collected packages: vaderSentiment\n",
            "Successfully installed vaderSentiment-3.3.2\n"
          ],
          "name": "stdout"
        }
      ]
    },
    {
      "cell_type": "code",
      "metadata": {
        "id": "xwwefX1p6NXO",
        "colab_type": "code",
        "colab": {}
      },
      "source": [
        "import pandas as pd\n",
        "import numpy as np"
      ],
      "execution_count": 2,
      "outputs": []
    },
    {
      "cell_type": "code",
      "metadata": {
        "id": "mLKnMDC56FWx",
        "colab_type": "code",
        "colab": {
          "base_uri": "https://localhost:8080/",
          "height": 70
        },
        "outputId": "e7778c14-613d-4a2c-e010-951a8fbe223b"
      },
      "source": [
        "import nltk\n",
        "\n",
        "\n",
        "import re\n",
        "nltk.download('stopwords')\n",
        "from nltk.corpus import stopwords\n",
        "\n",
        "\n",
        "nltk.download('vader_lexicon')\n",
        "from vaderSentiment.vaderSentiment import SentimentIntensityAnalyzer"
      ],
      "execution_count": 3,
      "outputs": [
        {
          "output_type": "stream",
          "text": [
            "[nltk_data] Downloading package stopwords to /root/nltk_data...\n",
            "[nltk_data]   Unzipping corpora/stopwords.zip.\n",
            "[nltk_data] Downloading package vader_lexicon to /root/nltk_data...\n"
          ],
          "name": "stdout"
        }
      ]
    },
    {
      "cell_type": "code",
      "metadata": {
        "id": "zF5PtgHG6Gr5",
        "colab_type": "code",
        "colab": {}
      },
      "source": [
        "df = pd.read_csv(\"/content/drive/My Drive/256 project/preprocessed_data.csv\")"
      ],
      "execution_count": 4,
      "outputs": []
    },
    {
      "cell_type": "code",
      "metadata": {
        "id": "EW-UxC8Q6L8Z",
        "colab_type": "code",
        "colab": {
          "base_uri": "https://localhost:8080/",
          "height": 976
        },
        "outputId": "b1ad3502-6c07-49ae-cf39-5720576b9fcb"
      },
      "source": [
        "df "
      ],
      "execution_count": 5,
      "outputs": [
        {
          "output_type": "execute_result",
          "data": {
            "text/html": [
              "<div>\n",
              "<style scoped>\n",
              "    .dataframe tbody tr th:only-of-type {\n",
              "        vertical-align: middle;\n",
              "    }\n",
              "\n",
              "    .dataframe tbody tr th {\n",
              "        vertical-align: top;\n",
              "    }\n",
              "\n",
              "    .dataframe thead th {\n",
              "        text-align: right;\n",
              "    }\n",
              "</style>\n",
              "<table border=\"1\" class=\"dataframe\">\n",
              "  <thead>\n",
              "    <tr style=\"text-align: right;\">\n",
              "      <th></th>\n",
              "      <th>created_at</th>\n",
              "      <th>tweet_id</th>\n",
              "      <th>text</th>\n",
              "      <th>iso_language_code</th>\n",
              "      <th>result_type</th>\n",
              "      <th>source</th>\n",
              "      <th>user_id</th>\n",
              "      <th>user_name</th>\n",
              "      <th>user_location</th>\n",
              "      <th>users_followers_count</th>\n",
              "      <th>statuses_count</th>\n",
              "      <th>retweeted_text</th>\n",
              "      <th>retweet_count</th>\n",
              "      <th>hashtags</th>\n",
              "      <th>favorite_count</th>\n",
              "      <th>retweeted_status</th>\n",
              "      <th>url</th>\n",
              "      <th>clean_text</th>\n",
              "    </tr>\n",
              "  </thead>\n",
              "  <tbody>\n",
              "    <tr>\n",
              "      <th>0</th>\n",
              "      <td>2020-07-10 05:49:12</td>\n",
              "      <td>1281465476191621122</td>\n",
              "      <td>How Can Accounting Software Reduce the Impact ...</td>\n",
              "      <td>en</td>\n",
              "      <td>recent</td>\n",
              "      <td>Twitter Web App</td>\n",
              "      <td>742999699272040449</td>\n",
              "      <td>📚RayvatAccounting.com</td>\n",
              "      <td>United States</td>\n",
              "      <td>1773</td>\n",
              "      <td>9613</td>\n",
              "      <td>How Can Accounting Software Reduce the Impact ...</td>\n",
              "      <td>0</td>\n",
              "      <td>Coronavirus</td>\n",
              "      <td>0</td>\n",
              "      <td>This is a retweet</td>\n",
              "      <td>This is a retweet</td>\n",
              "      <td>accounting software reduce impact coronavirus ...</td>\n",
              "    </tr>\n",
              "    <tr>\n",
              "      <th>1</th>\n",
              "      <td>2020-07-10 05:49:29</td>\n",
              "      <td>1281465544798085131</td>\n",
              "      <td>What people know and how they behave during CO...</td>\n",
              "      <td>en</td>\n",
              "      <td>recent</td>\n",
              "      <td>News Medical</td>\n",
              "      <td>39211040</td>\n",
              "      <td>News Medical</td>\n",
              "      <td>None</td>\n",
              "      <td>13293</td>\n",
              "      <td>54866</td>\n",
              "      <td>What people know and how they behave during CO...</td>\n",
              "      <td>0</td>\n",
              "      <td>Canada</td>\n",
              "      <td>1</td>\n",
              "      <td>This is a retweet</td>\n",
              "      <td>This is a retweet</td>\n",
              "      <td>people know behave covid19 canadian perspectiv...</td>\n",
              "    </tr>\n",
              "    <tr>\n",
              "      <th>2</th>\n",
              "      <td>2020-07-10 05:58:18</td>\n",
              "      <td>1281467763890860032</td>\n",
              "      <td>RT @Poorvika_Mobile: A silver lining amidst th...</td>\n",
              "      <td>en</td>\n",
              "      <td>recent</td>\n",
              "      <td>Twitter for Android</td>\n",
              "      <td>1250719740701491200</td>\n",
              "      <td>Subi</td>\n",
              "      <td>None</td>\n",
              "      <td>2</td>\n",
              "      <td>317</td>\n",
              "      <td>RT @Poorvika_Mobile: A silver lining amidst th...</td>\n",
              "      <td>932</td>\n",
              "      <td>Poorvika_Mobiles, India</td>\n",
              "      <td>0</td>\n",
              "      <td>This is a retweet</td>\n",
              "      <td>This is a retweet</td>\n",
              "      <td>silver lining amidst chaoswe poorvikamobiles t...</td>\n",
              "    </tr>\n",
              "    <tr>\n",
              "      <th>3</th>\n",
              "      <td>2020-07-10 05:58:56</td>\n",
              "      <td>1281467923899580417</td>\n",
              "      <td>RT @gergerlioglueng: Harun Çümen (Balıkesir Pr...</td>\n",
              "      <td>en</td>\n",
              "      <td>recent</td>\n",
              "      <td>Twitter for Android</td>\n",
              "      <td>1242200819308662784</td>\n",
              "      <td>Gurbet</td>\n",
              "      <td>None</td>\n",
              "      <td>623</td>\n",
              "      <td>2722</td>\n",
              "      <td>RT @gergerlioglueng: Harun Çümen (Balıkesir Pr...</td>\n",
              "      <td>157</td>\n",
              "      <td>COVID19</td>\n",
              "      <td>0</td>\n",
              "      <td>This is a retweet</td>\n",
              "      <td>This is a retweet</td>\n",
              "      <td>harun cumen balikesir prison couldnt see kids ...</td>\n",
              "    </tr>\n",
              "    <tr>\n",
              "      <th>4</th>\n",
              "      <td>2020-07-10 06:00:00</td>\n",
              "      <td>1281468192125263873</td>\n",
              "      <td>Oximeters won't steal your fingerprints. Turni...</td>\n",
              "      <td>en</td>\n",
              "      <td>recent</td>\n",
              "      <td>TweetDeck</td>\n",
              "      <td>3780315496</td>\n",
              "      <td>International Fact-Checking Network</td>\n",
              "      <td>🌎 🌍 🌏</td>\n",
              "      <td>27111</td>\n",
              "      <td>11456</td>\n",
              "      <td>Oximeters won't steal your fingerprints. Turni...</td>\n",
              "      <td>6</td>\n",
              "      <td>None</td>\n",
              "      <td>6</td>\n",
              "      <td>This is a retweet</td>\n",
              "      <td>This is a retweet</td>\n",
              "      <td>oximeters wont steal fingerprints turning tech...</td>\n",
              "    </tr>\n",
              "    <tr>\n",
              "      <th>...</th>\n",
              "      <td>...</td>\n",
              "      <td>...</td>\n",
              "      <td>...</td>\n",
              "      <td>...</td>\n",
              "      <td>...</td>\n",
              "      <td>...</td>\n",
              "      <td>...</td>\n",
              "      <td>...</td>\n",
              "      <td>...</td>\n",
              "      <td>...</td>\n",
              "      <td>...</td>\n",
              "      <td>...</td>\n",
              "      <td>...</td>\n",
              "      <td>...</td>\n",
              "      <td>...</td>\n",
              "      <td>...</td>\n",
              "      <td>...</td>\n",
              "      <td>...</td>\n",
              "    </tr>\n",
              "    <tr>\n",
              "      <th>29140</th>\n",
              "      <td>2020-08-04 05:35:53</td>\n",
              "      <td>1290521819062165504</td>\n",
              "      <td>RT @CDWGWAGov: Emerging Technologies for Track...</td>\n",
              "      <td>en</td>\n",
              "      <td>recent</td>\n",
              "      <td>Twitter for addempsea</td>\n",
              "      <td>1196874000837816320</td>\n",
              "      <td>quotesBot</td>\n",
              "      <td>None</td>\n",
              "      <td>907</td>\n",
              "      <td>136081</td>\n",
              "      <td>RT @CDWGWAGov: Emerging Technologies for Track...</td>\n",
              "      <td>11</td>\n",
              "      <td>pandemic, bigdata, datascience, analytics, ai,...</td>\n",
              "      <td>0</td>\n",
              "      <td>This is a retweet</td>\n",
              "      <td>This is a retweet</td>\n",
              "      <td>emerging technologies tracking covid19 pandemi...</td>\n",
              "    </tr>\n",
              "    <tr>\n",
              "      <th>29141</th>\n",
              "      <td>2020-08-04 05:35:58</td>\n",
              "      <td>1290521841157713920</td>\n",
              "      <td>RT @CDWGWAGov: Emerging Technologies for Track...</td>\n",
              "      <td>en</td>\n",
              "      <td>recent</td>\n",
              "      <td>nlognrobot</td>\n",
              "      <td>1260062769543434240</td>\n",
              "      <td>#100DaysOfCode</td>\n",
              "      <td>None</td>\n",
              "      <td>1435</td>\n",
              "      <td>187553</td>\n",
              "      <td>RT @CDWGWAGov: Emerging Technologies for Track...</td>\n",
              "      <td>11</td>\n",
              "      <td>pandemic, bigdata, datascience, analytics, ai,...</td>\n",
              "      <td>0</td>\n",
              "      <td>This is a retweet</td>\n",
              "      <td>This is a retweet</td>\n",
              "      <td>emerging technologies tracking covid19 pandemi...</td>\n",
              "    </tr>\n",
              "    <tr>\n",
              "      <th>29142</th>\n",
              "      <td>2020-08-04 05:36:34</td>\n",
              "      <td>1290521991599009792</td>\n",
              "      <td>RT @CDWGWAGov: Emerging Technologies for Track...</td>\n",
              "      <td>en</td>\n",
              "      <td>recent</td>\n",
              "      <td>TheDataScienceBot</td>\n",
              "      <td>1276058041389953024</td>\n",
              "      <td>The Data Science Bot</td>\n",
              "      <td>None</td>\n",
              "      <td>588</td>\n",
              "      <td>57258</td>\n",
              "      <td>RT @CDWGWAGov: Emerging Technologies for Track...</td>\n",
              "      <td>11</td>\n",
              "      <td>pandemic, bigdata, datascience, analytics, ai,...</td>\n",
              "      <td>0</td>\n",
              "      <td>This is a retweet</td>\n",
              "      <td>This is a retweet</td>\n",
              "      <td>emerging technologies tracking covid19 pandemi...</td>\n",
              "    </tr>\n",
              "    <tr>\n",
              "      <th>29143</th>\n",
              "      <td>2020-08-04 05:37:44</td>\n",
              "      <td>1290522287389605889</td>\n",
              "      <td>Wow! Spain &amp;amp; France don’t have any new dai...</td>\n",
              "      <td>en</td>\n",
              "      <td>recent</td>\n",
              "      <td>Twitter for iPhone</td>\n",
              "      <td>3242523302</td>\n",
              "      <td>Stray Turtle</td>\n",
              "      <td>California, USA</td>\n",
              "      <td>74</td>\n",
              "      <td>60615</td>\n",
              "      <td>Wow! Spain &amp;amp; France don’t have any new dai...</td>\n",
              "      <td>0</td>\n",
              "      <td>None</td>\n",
              "      <td>0</td>\n",
              "      <td>This is a retweet</td>\n",
              "      <td>This is a retweet</td>\n",
              "      <td>wow spain amp france dont new daily cases that...</td>\n",
              "    </tr>\n",
              "    <tr>\n",
              "      <th>29144</th>\n",
              "      <td>2020-08-04 05:40:01</td>\n",
              "      <td>1290522862621585415</td>\n",
              "      <td>🤦🏻‍♂️🤦🏻‍♂️🤦🏻‍♂️ O ... M ... G ... Just when yo...</td>\n",
              "      <td>en</td>\n",
              "      <td>recent</td>\n",
              "      <td>Twitter Web App</td>\n",
              "      <td>14128457</td>\n",
              "      <td>Toby Forage</td>\n",
              "      <td>Sydney, Australia</td>\n",
              "      <td>1518</td>\n",
              "      <td>18651</td>\n",
              "      <td>🤦🏻‍♂️🤦🏻‍♂️🤦🏻‍♂️ O ... M ... G ... Just when yo...</td>\n",
              "      <td>0</td>\n",
              "      <td>COVID19</td>\n",
              "      <td>0</td>\n",
              "      <td>This is a retweet</td>\n",
              "      <td>This is a retweet</td>\n",
              "      <td>thought couldnt get unbelievable covid19</td>\n",
              "    </tr>\n",
              "  </tbody>\n",
              "</table>\n",
              "<p>29145 rows × 18 columns</p>\n",
              "</div>"
            ],
            "text/plain": [
              "                created_at  ...                                         clean_text\n",
              "0      2020-07-10 05:49:12  ...  accounting software reduce impact coronavirus ...\n",
              "1      2020-07-10 05:49:29  ...  people know behave covid19 canadian perspectiv...\n",
              "2      2020-07-10 05:58:18  ...  silver lining amidst chaoswe poorvikamobiles t...\n",
              "3      2020-07-10 05:58:56  ...  harun cumen balikesir prison couldnt see kids ...\n",
              "4      2020-07-10 06:00:00  ...  oximeters wont steal fingerprints turning tech...\n",
              "...                    ...  ...                                                ...\n",
              "29140  2020-08-04 05:35:53  ...  emerging technologies tracking covid19 pandemi...\n",
              "29141  2020-08-04 05:35:58  ...  emerging technologies tracking covid19 pandemi...\n",
              "29142  2020-08-04 05:36:34  ...  emerging technologies tracking covid19 pandemi...\n",
              "29143  2020-08-04 05:37:44  ...  wow spain amp france dont new daily cases that...\n",
              "29144  2020-08-04 05:40:01  ...           thought couldnt get unbelievable covid19\n",
              "\n",
              "[29145 rows x 18 columns]"
            ]
          },
          "metadata": {
            "tags": []
          },
          "execution_count": 5
        }
      ]
    },
    {
      "cell_type": "code",
      "metadata": {
        "id": "fMTGgbx26tUg",
        "colab_type": "code",
        "colab": {}
      },
      "source": [
        "df_vader = df[[\"clean_text\"]].astype(str)\n"
      ],
      "execution_count": 6,
      "outputs": []
    },
    {
      "cell_type": "code",
      "metadata": {
        "id": "w_-c4mwI62Go",
        "colab_type": "code",
        "colab": {
          "base_uri": "https://localhost:8080/",
          "height": 52
        },
        "outputId": "7259e20a-f9a6-4a56-cddd-e912899058d1"
      },
      "source": [
        "df_vader.dtypes"
      ],
      "execution_count": 7,
      "outputs": [
        {
          "output_type": "execute_result",
          "data": {
            "text/plain": [
              "clean_text    object\n",
              "dtype: object"
            ]
          },
          "metadata": {
            "tags": []
          },
          "execution_count": 7
        }
      ]
    },
    {
      "cell_type": "code",
      "metadata": {
        "id": "crHeC2FU7PBq",
        "colab_type": "code",
        "colab": {}
      },
      "source": [
        "analyzer = SentimentIntensityAnalyzer()"
      ],
      "execution_count": 8,
      "outputs": []
    },
    {
      "cell_type": "code",
      "metadata": {
        "id": "3IbZXHmM625K",
        "colab_type": "code",
        "colab": {}
      },
      "source": [
        "scores = []\n",
        "\n",
        "compound_list = []\n",
        "positive_list = []\n",
        "negative_list = []\n",
        "neutral_list = []\n",
        "\n",
        "for i in range(df_vader['clean_text'].shape[0]):\n",
        "  compound = analyzer.polarity_scores(df_vader['clean_text'][i])[\"compound\"]\n",
        "  pos = analyzer.polarity_scores(df_vader['clean_text'][i])[\"pos\"]\n",
        "  neu = analyzer.polarity_scores(df_vader['clean_text'][i])[\"neu\"]\n",
        "  neg = analyzer.polarity_scores(df_vader['clean_text'][i])[\"neg\"]\n",
        "  scores.append({\"Compound\": compound,\n",
        "                 \"Positive\": pos,\n",
        "                 \"Negative\": neg,\n",
        "                 \"Neutral\": neu\n",
        "                })"
      ],
      "execution_count": 9,
      "outputs": []
    },
    {
      "cell_type": "code",
      "metadata": {
        "id": "fRZY_z4l7HFl",
        "colab_type": "code",
        "colab": {}
      },
      "source": [
        "sentiments_score = pd.DataFrame.from_dict(scores)"
      ],
      "execution_count": 10,
      "outputs": []
    },
    {
      "cell_type": "code",
      "metadata": {
        "id": "yglk_eVd7eH8",
        "colab_type": "code",
        "colab": {
          "base_uri": "https://localhost:8080/",
          "height": 194
        },
        "outputId": "1c30a0a7-4690-4ffe-940f-8b157c78d945"
      },
      "source": [
        "df_vader = df_vader.join(sentiments_score)\n",
        "df_vader.head()"
      ],
      "execution_count": 11,
      "outputs": [
        {
          "output_type": "execute_result",
          "data": {
            "text/html": [
              "<div>\n",
              "<style scoped>\n",
              "    .dataframe tbody tr th:only-of-type {\n",
              "        vertical-align: middle;\n",
              "    }\n",
              "\n",
              "    .dataframe tbody tr th {\n",
              "        vertical-align: top;\n",
              "    }\n",
              "\n",
              "    .dataframe thead th {\n",
              "        text-align: right;\n",
              "    }\n",
              "</style>\n",
              "<table border=\"1\" class=\"dataframe\">\n",
              "  <thead>\n",
              "    <tr style=\"text-align: right;\">\n",
              "      <th></th>\n",
              "      <th>clean_text</th>\n",
              "      <th>Compound</th>\n",
              "      <th>Positive</th>\n",
              "      <th>Negative</th>\n",
              "      <th>Neutral</th>\n",
              "    </tr>\n",
              "  </thead>\n",
              "  <tbody>\n",
              "    <tr>\n",
              "      <th>0</th>\n",
              "      <td>accounting software reduce impact coronavirus ...</td>\n",
              "      <td>0.0000</td>\n",
              "      <td>0.000</td>\n",
              "      <td>0.000</td>\n",
              "      <td>1.000</td>\n",
              "    </tr>\n",
              "    <tr>\n",
              "      <th>1</th>\n",
              "      <td>people know behave covid19 canadian perspectiv...</td>\n",
              "      <td>0.0000</td>\n",
              "      <td>0.000</td>\n",
              "      <td>0.000</td>\n",
              "      <td>1.000</td>\n",
              "    </tr>\n",
              "    <tr>\n",
              "      <th>2</th>\n",
              "      <td>silver lining amidst chaoswe poorvikamobiles t...</td>\n",
              "      <td>0.7003</td>\n",
              "      <td>0.345</td>\n",
              "      <td>0.000</td>\n",
              "      <td>0.655</td>\n",
              "    </tr>\n",
              "    <tr>\n",
              "      <th>3</th>\n",
              "      <td>harun cumen balikesir prison couldnt see kids ...</td>\n",
              "      <td>-0.5106</td>\n",
              "      <td>0.000</td>\n",
              "      <td>0.216</td>\n",
              "      <td>0.784</td>\n",
              "    </tr>\n",
              "    <tr>\n",
              "      <th>4</th>\n",
              "      <td>oximeters wont steal fingerprints turning tech...</td>\n",
              "      <td>0.7669</td>\n",
              "      <td>0.424</td>\n",
              "      <td>0.000</td>\n",
              "      <td>0.576</td>\n",
              "    </tr>\n",
              "  </tbody>\n",
              "</table>\n",
              "</div>"
            ],
            "text/plain": [
              "                                          clean_text  ...  Neutral\n",
              "0  accounting software reduce impact coronavirus ...  ...    1.000\n",
              "1  people know behave covid19 canadian perspectiv...  ...    1.000\n",
              "2  silver lining amidst chaoswe poorvikamobiles t...  ...    0.655\n",
              "3  harun cumen balikesir prison couldnt see kids ...  ...    0.784\n",
              "4  oximeters wont steal fingerprints turning tech...  ...    0.576\n",
              "\n",
              "[5 rows x 5 columns]"
            ]
          },
          "metadata": {
            "tags": []
          },
          "execution_count": 11
        }
      ]
    },
    {
      "cell_type": "code",
      "metadata": {
        "id": "ycdlVLCY7g2J",
        "colab_type": "code",
        "colab": {}
      },
      "source": [
        "def get_Analysis(polarity):\n",
        "  if polarity > 0:\n",
        "    return 'Positive'\n",
        "  elif polarity == 0:\n",
        "    return 'Neutral'\n",
        "  else:\n",
        "    return 'Negative'"
      ],
      "execution_count": 12,
      "outputs": []
    },
    {
      "cell_type": "code",
      "metadata": {
        "id": "K5tUbLVj7q5G",
        "colab_type": "code",
        "colab": {}
      },
      "source": [
        "df_vader['Analysis'] = df_vader['Compound'].apply(get_Analysis)"
      ],
      "execution_count": 13,
      "outputs": []
    },
    {
      "cell_type": "code",
      "metadata": {
        "id": "n9WXcc_j7zSw",
        "colab_type": "code",
        "colab": {
          "base_uri": "https://localhost:8080/",
          "height": 194
        },
        "outputId": "f3d51b46-953d-4aca-d1ae-91c9098c80f8"
      },
      "source": [
        "df_vader.head()"
      ],
      "execution_count": 14,
      "outputs": [
        {
          "output_type": "execute_result",
          "data": {
            "text/html": [
              "<div>\n",
              "<style scoped>\n",
              "    .dataframe tbody tr th:only-of-type {\n",
              "        vertical-align: middle;\n",
              "    }\n",
              "\n",
              "    .dataframe tbody tr th {\n",
              "        vertical-align: top;\n",
              "    }\n",
              "\n",
              "    .dataframe thead th {\n",
              "        text-align: right;\n",
              "    }\n",
              "</style>\n",
              "<table border=\"1\" class=\"dataframe\">\n",
              "  <thead>\n",
              "    <tr style=\"text-align: right;\">\n",
              "      <th></th>\n",
              "      <th>clean_text</th>\n",
              "      <th>Compound</th>\n",
              "      <th>Positive</th>\n",
              "      <th>Negative</th>\n",
              "      <th>Neutral</th>\n",
              "      <th>Analysis</th>\n",
              "    </tr>\n",
              "  </thead>\n",
              "  <tbody>\n",
              "    <tr>\n",
              "      <th>0</th>\n",
              "      <td>accounting software reduce impact coronavirus ...</td>\n",
              "      <td>0.0000</td>\n",
              "      <td>0.000</td>\n",
              "      <td>0.000</td>\n",
              "      <td>1.000</td>\n",
              "      <td>Neutral</td>\n",
              "    </tr>\n",
              "    <tr>\n",
              "      <th>1</th>\n",
              "      <td>people know behave covid19 canadian perspectiv...</td>\n",
              "      <td>0.0000</td>\n",
              "      <td>0.000</td>\n",
              "      <td>0.000</td>\n",
              "      <td>1.000</td>\n",
              "      <td>Neutral</td>\n",
              "    </tr>\n",
              "    <tr>\n",
              "      <th>2</th>\n",
              "      <td>silver lining amidst chaoswe poorvikamobiles t...</td>\n",
              "      <td>0.7003</td>\n",
              "      <td>0.345</td>\n",
              "      <td>0.000</td>\n",
              "      <td>0.655</td>\n",
              "      <td>Positive</td>\n",
              "    </tr>\n",
              "    <tr>\n",
              "      <th>3</th>\n",
              "      <td>harun cumen balikesir prison couldnt see kids ...</td>\n",
              "      <td>-0.5106</td>\n",
              "      <td>0.000</td>\n",
              "      <td>0.216</td>\n",
              "      <td>0.784</td>\n",
              "      <td>Negative</td>\n",
              "    </tr>\n",
              "    <tr>\n",
              "      <th>4</th>\n",
              "      <td>oximeters wont steal fingerprints turning tech...</td>\n",
              "      <td>0.7669</td>\n",
              "      <td>0.424</td>\n",
              "      <td>0.000</td>\n",
              "      <td>0.576</td>\n",
              "      <td>Positive</td>\n",
              "    </tr>\n",
              "  </tbody>\n",
              "</table>\n",
              "</div>"
            ],
            "text/plain": [
              "                                          clean_text  ...  Analysis\n",
              "0  accounting software reduce impact coronavirus ...  ...   Neutral\n",
              "1  people know behave covid19 canadian perspectiv...  ...   Neutral\n",
              "2  silver lining amidst chaoswe poorvikamobiles t...  ...  Positive\n",
              "3  harun cumen balikesir prison couldnt see kids ...  ...  Negative\n",
              "4  oximeters wont steal fingerprints turning tech...  ...  Positive\n",
              "\n",
              "[5 rows x 6 columns]"
            ]
          },
          "metadata": {
            "tags": []
          },
          "execution_count": 14
        }
      ]
    },
    {
      "cell_type": "code",
      "metadata": {
        "id": "lpM7F78r75AC",
        "colab_type": "code",
        "colab": {
          "base_uri": "https://localhost:8080/",
          "height": 35
        },
        "outputId": "36704c8b-3f92-499d-a58c-df505c07ab99"
      },
      "source": [
        "df_vader.shape"
      ],
      "execution_count": 15,
      "outputs": [
        {
          "output_type": "execute_result",
          "data": {
            "text/plain": [
              "(29145, 6)"
            ]
          },
          "metadata": {
            "tags": []
          },
          "execution_count": 15
        }
      ]
    },
    {
      "cell_type": "markdown",
      "metadata": {
        "id": "TJJ4EsJK4l5d",
        "colab_type": "text"
      },
      "source": [
        "#Bert"
      ]
    },
    {
      "cell_type": "code",
      "metadata": {
        "id": "oxwDIihc4moY",
        "colab_type": "code",
        "colab": {
          "base_uri": "https://localhost:8080/",
          "height": 35
        },
        "outputId": "149ceb8f-78dc-4385-9358-0afede087d07"
      },
      "source": [
        "import tensorflow as tf\n",
        "\n",
        "# Get the GPU device name.\n",
        "device_name = tf.test.gpu_device_name()\n",
        "\n",
        "# The device name should look like the following:\n",
        "if device_name == '/device:GPU:0':\n",
        "    print('Found GPU at: {}'.format(device_name))\n",
        "else:\n",
        "    raise SystemError('GPU device not found')\n"
      ],
      "execution_count": 16,
      "outputs": [
        {
          "output_type": "stream",
          "text": [
            "Found GPU at: /device:GPU:0\n"
          ],
          "name": "stdout"
        }
      ]
    },
    {
      "cell_type": "code",
      "metadata": {
        "id": "q4C8Hewc48hp",
        "colab_type": "code",
        "colab": {}
      },
      "source": [
        "from sklearn import preprocessing\n",
        "from sklearn.model_selection import train_test_split\n"
      ],
      "execution_count": 17,
      "outputs": []
    },
    {
      "cell_type": "code",
      "metadata": {
        "id": "qTMYTlRW5Jfo",
        "colab_type": "code",
        "colab": {
          "base_uri": "https://localhost:8080/",
          "height": 230
        },
        "outputId": "ac538c13-36d6-40b1-dc1b-751bb94719f9"
      },
      "source": [
        "le = preprocessing.LabelEncoder()\n",
        "df_vader['target'] = le.fit_transform(df_vader['Analysis'])\n",
        "df_vader['target']"
      ],
      "execution_count": 18,
      "outputs": [
        {
          "output_type": "execute_result",
          "data": {
            "text/plain": [
              "0        1\n",
              "1        1\n",
              "2        2\n",
              "3        0\n",
              "4        2\n",
              "        ..\n",
              "29140    1\n",
              "29141    1\n",
              "29142    1\n",
              "29143    2\n",
              "29144    0\n",
              "Name: target, Length: 29145, dtype: int64"
            ]
          },
          "metadata": {
            "tags": []
          },
          "execution_count": 18
        }
      ]
    },
    {
      "cell_type": "code",
      "metadata": {
        "id": "N4E4f9LDh0da",
        "colab_type": "code",
        "colab": {
          "base_uri": "https://localhost:8080/",
          "height": 399
        },
        "outputId": "5e54e1c7-5a55-467e-9fac-3877207d85d5"
      },
      "source": [
        "df_vader"
      ],
      "execution_count": 19,
      "outputs": [
        {
          "output_type": "execute_result",
          "data": {
            "text/html": [
              "<div>\n",
              "<style scoped>\n",
              "    .dataframe tbody tr th:only-of-type {\n",
              "        vertical-align: middle;\n",
              "    }\n",
              "\n",
              "    .dataframe tbody tr th {\n",
              "        vertical-align: top;\n",
              "    }\n",
              "\n",
              "    .dataframe thead th {\n",
              "        text-align: right;\n",
              "    }\n",
              "</style>\n",
              "<table border=\"1\" class=\"dataframe\">\n",
              "  <thead>\n",
              "    <tr style=\"text-align: right;\">\n",
              "      <th></th>\n",
              "      <th>clean_text</th>\n",
              "      <th>Compound</th>\n",
              "      <th>Positive</th>\n",
              "      <th>Negative</th>\n",
              "      <th>Neutral</th>\n",
              "      <th>Analysis</th>\n",
              "      <th>target</th>\n",
              "    </tr>\n",
              "  </thead>\n",
              "  <tbody>\n",
              "    <tr>\n",
              "      <th>0</th>\n",
              "      <td>accounting software reduce impact coronavirus ...</td>\n",
              "      <td>0.0000</td>\n",
              "      <td>0.000</td>\n",
              "      <td>0.000</td>\n",
              "      <td>1.000</td>\n",
              "      <td>Neutral</td>\n",
              "      <td>1</td>\n",
              "    </tr>\n",
              "    <tr>\n",
              "      <th>1</th>\n",
              "      <td>people know behave covid19 canadian perspectiv...</td>\n",
              "      <td>0.0000</td>\n",
              "      <td>0.000</td>\n",
              "      <td>0.000</td>\n",
              "      <td>1.000</td>\n",
              "      <td>Neutral</td>\n",
              "      <td>1</td>\n",
              "    </tr>\n",
              "    <tr>\n",
              "      <th>2</th>\n",
              "      <td>silver lining amidst chaoswe poorvikamobiles t...</td>\n",
              "      <td>0.7003</td>\n",
              "      <td>0.345</td>\n",
              "      <td>0.000</td>\n",
              "      <td>0.655</td>\n",
              "      <td>Positive</td>\n",
              "      <td>2</td>\n",
              "    </tr>\n",
              "    <tr>\n",
              "      <th>3</th>\n",
              "      <td>harun cumen balikesir prison couldnt see kids ...</td>\n",
              "      <td>-0.5106</td>\n",
              "      <td>0.000</td>\n",
              "      <td>0.216</td>\n",
              "      <td>0.784</td>\n",
              "      <td>Negative</td>\n",
              "      <td>0</td>\n",
              "    </tr>\n",
              "    <tr>\n",
              "      <th>4</th>\n",
              "      <td>oximeters wont steal fingerprints turning tech...</td>\n",
              "      <td>0.7669</td>\n",
              "      <td>0.424</td>\n",
              "      <td>0.000</td>\n",
              "      <td>0.576</td>\n",
              "      <td>Positive</td>\n",
              "      <td>2</td>\n",
              "    </tr>\n",
              "    <tr>\n",
              "      <th>...</th>\n",
              "      <td>...</td>\n",
              "      <td>...</td>\n",
              "      <td>...</td>\n",
              "      <td>...</td>\n",
              "      <td>...</td>\n",
              "      <td>...</td>\n",
              "      <td>...</td>\n",
              "    </tr>\n",
              "    <tr>\n",
              "      <th>29140</th>\n",
              "      <td>emerging technologies tracking covid19 pandemi...</td>\n",
              "      <td>0.0000</td>\n",
              "      <td>0.000</td>\n",
              "      <td>0.000</td>\n",
              "      <td>1.000</td>\n",
              "      <td>Neutral</td>\n",
              "      <td>1</td>\n",
              "    </tr>\n",
              "    <tr>\n",
              "      <th>29141</th>\n",
              "      <td>emerging technologies tracking covid19 pandemi...</td>\n",
              "      <td>0.0000</td>\n",
              "      <td>0.000</td>\n",
              "      <td>0.000</td>\n",
              "      <td>1.000</td>\n",
              "      <td>Neutral</td>\n",
              "      <td>1</td>\n",
              "    </tr>\n",
              "    <tr>\n",
              "      <th>29142</th>\n",
              "      <td>emerging technologies tracking covid19 pandemi...</td>\n",
              "      <td>0.0000</td>\n",
              "      <td>0.000</td>\n",
              "      <td>0.000</td>\n",
              "      <td>1.000</td>\n",
              "      <td>Neutral</td>\n",
              "      <td>1</td>\n",
              "    </tr>\n",
              "    <tr>\n",
              "      <th>29143</th>\n",
              "      <td>wow spain amp france dont new daily cases that...</td>\n",
              "      <td>0.8979</td>\n",
              "      <td>0.498</td>\n",
              "      <td>0.000</td>\n",
              "      <td>0.502</td>\n",
              "      <td>Positive</td>\n",
              "      <td>2</td>\n",
              "    </tr>\n",
              "    <tr>\n",
              "      <th>29144</th>\n",
              "      <td>thought couldnt get unbelievable covid19</td>\n",
              "      <td>-0.1511</td>\n",
              "      <td>0.000</td>\n",
              "      <td>0.285</td>\n",
              "      <td>0.715</td>\n",
              "      <td>Negative</td>\n",
              "      <td>0</td>\n",
              "    </tr>\n",
              "  </tbody>\n",
              "</table>\n",
              "<p>29145 rows × 7 columns</p>\n",
              "</div>"
            ],
            "text/plain": [
              "                                              clean_text  ...  target\n",
              "0      accounting software reduce impact coronavirus ...  ...       1\n",
              "1      people know behave covid19 canadian perspectiv...  ...       1\n",
              "2      silver lining amidst chaoswe poorvikamobiles t...  ...       2\n",
              "3      harun cumen balikesir prison couldnt see kids ...  ...       0\n",
              "4      oximeters wont steal fingerprints turning tech...  ...       2\n",
              "...                                                  ...  ...     ...\n",
              "29140  emerging technologies tracking covid19 pandemi...  ...       1\n",
              "29141  emerging technologies tracking covid19 pandemi...  ...       1\n",
              "29142  emerging technologies tracking covid19 pandemi...  ...       1\n",
              "29143  wow spain amp france dont new daily cases that...  ...       2\n",
              "29144           thought couldnt get unbelievable covid19  ...       0\n",
              "\n",
              "[29145 rows x 7 columns]"
            ]
          },
          "metadata": {
            "tags": []
          },
          "execution_count": 19
        }
      ]
    },
    {
      "cell_type": "markdown",
      "metadata": {
        "id": "XoXenM4YblPh",
        "colab_type": "text"
      },
      "source": [
        "##Pytorch sentiment analysis"
      ]
    },
    {
      "cell_type": "code",
      "metadata": {
        "id": "MOWNuDHLbnwx",
        "colab_type": "code",
        "colab": {}
      },
      "source": [
        "!pip install -q -U watermark"
      ],
      "execution_count": 20,
      "outputs": []
    },
    {
      "cell_type": "code",
      "metadata": {
        "id": "LMSyoMd6br5E",
        "colab_type": "code",
        "colab": {
          "base_uri": "https://localhost:8080/",
          "height": 106
        },
        "outputId": "30ce5733-9231-42b4-aebf-4274d22bf142"
      },
      "source": [
        "!pip install -qq transformers"
      ],
      "execution_count": 21,
      "outputs": [
        {
          "output_type": "stream",
          "text": [
            "\u001b[K     |████████████████████████████████| 778kB 5.5MB/s \n",
            "\u001b[K     |████████████████████████████████| 3.0MB 15.3MB/s \n",
            "\u001b[K     |████████████████████████████████| 1.1MB 43.6MB/s \n",
            "\u001b[K     |████████████████████████████████| 890kB 48.0MB/s \n",
            "\u001b[?25h  Building wheel for sacremoses (setup.py) ... \u001b[?25l\u001b[?25hdone\n"
          ],
          "name": "stdout"
        }
      ]
    },
    {
      "cell_type": "code",
      "metadata": {
        "id": "BUA4vputbuOC",
        "colab_type": "code",
        "colab": {
          "base_uri": "https://localhost:8080/",
          "height": 141
        },
        "outputId": "38f761ab-ff80-467f-e377-2613fe4041d1"
      },
      "source": [
        "%reload_ext watermark\n",
        "%watermark -v -p numpy,pandas,torch,transformers"
      ],
      "execution_count": 22,
      "outputs": [
        {
          "output_type": "stream",
          "text": [
            "CPython 3.6.9\n",
            "IPython 5.5.0\n",
            "\n",
            "numpy 1.18.5\n",
            "pandas 1.0.5\n",
            "torch 1.6.0+cu101\n",
            "transformers 3.0.2\n"
          ],
          "name": "stdout"
        }
      ]
    },
    {
      "cell_type": "code",
      "metadata": {
        "id": "F9alTna2b2_O",
        "colab_type": "code",
        "colab": {
          "base_uri": "https://localhost:8080/",
          "height": 399
        },
        "outputId": "a69a04a7-675b-4101-aeba-62cef2ec76d8"
      },
      "source": [
        "df_vader"
      ],
      "execution_count": 23,
      "outputs": [
        {
          "output_type": "execute_result",
          "data": {
            "text/html": [
              "<div>\n",
              "<style scoped>\n",
              "    .dataframe tbody tr th:only-of-type {\n",
              "        vertical-align: middle;\n",
              "    }\n",
              "\n",
              "    .dataframe tbody tr th {\n",
              "        vertical-align: top;\n",
              "    }\n",
              "\n",
              "    .dataframe thead th {\n",
              "        text-align: right;\n",
              "    }\n",
              "</style>\n",
              "<table border=\"1\" class=\"dataframe\">\n",
              "  <thead>\n",
              "    <tr style=\"text-align: right;\">\n",
              "      <th></th>\n",
              "      <th>clean_text</th>\n",
              "      <th>Compound</th>\n",
              "      <th>Positive</th>\n",
              "      <th>Negative</th>\n",
              "      <th>Neutral</th>\n",
              "      <th>Analysis</th>\n",
              "      <th>target</th>\n",
              "    </tr>\n",
              "  </thead>\n",
              "  <tbody>\n",
              "    <tr>\n",
              "      <th>0</th>\n",
              "      <td>accounting software reduce impact coronavirus ...</td>\n",
              "      <td>0.0000</td>\n",
              "      <td>0.000</td>\n",
              "      <td>0.000</td>\n",
              "      <td>1.000</td>\n",
              "      <td>Neutral</td>\n",
              "      <td>1</td>\n",
              "    </tr>\n",
              "    <tr>\n",
              "      <th>1</th>\n",
              "      <td>people know behave covid19 canadian perspectiv...</td>\n",
              "      <td>0.0000</td>\n",
              "      <td>0.000</td>\n",
              "      <td>0.000</td>\n",
              "      <td>1.000</td>\n",
              "      <td>Neutral</td>\n",
              "      <td>1</td>\n",
              "    </tr>\n",
              "    <tr>\n",
              "      <th>2</th>\n",
              "      <td>silver lining amidst chaoswe poorvikamobiles t...</td>\n",
              "      <td>0.7003</td>\n",
              "      <td>0.345</td>\n",
              "      <td>0.000</td>\n",
              "      <td>0.655</td>\n",
              "      <td>Positive</td>\n",
              "      <td>2</td>\n",
              "    </tr>\n",
              "    <tr>\n",
              "      <th>3</th>\n",
              "      <td>harun cumen balikesir prison couldnt see kids ...</td>\n",
              "      <td>-0.5106</td>\n",
              "      <td>0.000</td>\n",
              "      <td>0.216</td>\n",
              "      <td>0.784</td>\n",
              "      <td>Negative</td>\n",
              "      <td>0</td>\n",
              "    </tr>\n",
              "    <tr>\n",
              "      <th>4</th>\n",
              "      <td>oximeters wont steal fingerprints turning tech...</td>\n",
              "      <td>0.7669</td>\n",
              "      <td>0.424</td>\n",
              "      <td>0.000</td>\n",
              "      <td>0.576</td>\n",
              "      <td>Positive</td>\n",
              "      <td>2</td>\n",
              "    </tr>\n",
              "    <tr>\n",
              "      <th>...</th>\n",
              "      <td>...</td>\n",
              "      <td>...</td>\n",
              "      <td>...</td>\n",
              "      <td>...</td>\n",
              "      <td>...</td>\n",
              "      <td>...</td>\n",
              "      <td>...</td>\n",
              "    </tr>\n",
              "    <tr>\n",
              "      <th>29140</th>\n",
              "      <td>emerging technologies tracking covid19 pandemi...</td>\n",
              "      <td>0.0000</td>\n",
              "      <td>0.000</td>\n",
              "      <td>0.000</td>\n",
              "      <td>1.000</td>\n",
              "      <td>Neutral</td>\n",
              "      <td>1</td>\n",
              "    </tr>\n",
              "    <tr>\n",
              "      <th>29141</th>\n",
              "      <td>emerging technologies tracking covid19 pandemi...</td>\n",
              "      <td>0.0000</td>\n",
              "      <td>0.000</td>\n",
              "      <td>0.000</td>\n",
              "      <td>1.000</td>\n",
              "      <td>Neutral</td>\n",
              "      <td>1</td>\n",
              "    </tr>\n",
              "    <tr>\n",
              "      <th>29142</th>\n",
              "      <td>emerging technologies tracking covid19 pandemi...</td>\n",
              "      <td>0.0000</td>\n",
              "      <td>0.000</td>\n",
              "      <td>0.000</td>\n",
              "      <td>1.000</td>\n",
              "      <td>Neutral</td>\n",
              "      <td>1</td>\n",
              "    </tr>\n",
              "    <tr>\n",
              "      <th>29143</th>\n",
              "      <td>wow spain amp france dont new daily cases that...</td>\n",
              "      <td>0.8979</td>\n",
              "      <td>0.498</td>\n",
              "      <td>0.000</td>\n",
              "      <td>0.502</td>\n",
              "      <td>Positive</td>\n",
              "      <td>2</td>\n",
              "    </tr>\n",
              "    <tr>\n",
              "      <th>29144</th>\n",
              "      <td>thought couldnt get unbelievable covid19</td>\n",
              "      <td>-0.1511</td>\n",
              "      <td>0.000</td>\n",
              "      <td>0.285</td>\n",
              "      <td>0.715</td>\n",
              "      <td>Negative</td>\n",
              "      <td>0</td>\n",
              "    </tr>\n",
              "  </tbody>\n",
              "</table>\n",
              "<p>29145 rows × 7 columns</p>\n",
              "</div>"
            ],
            "text/plain": [
              "                                              clean_text  ...  target\n",
              "0      accounting software reduce impact coronavirus ...  ...       1\n",
              "1      people know behave covid19 canadian perspectiv...  ...       1\n",
              "2      silver lining amidst chaoswe poorvikamobiles t...  ...       2\n",
              "3      harun cumen balikesir prison couldnt see kids ...  ...       0\n",
              "4      oximeters wont steal fingerprints turning tech...  ...       2\n",
              "...                                                  ...  ...     ...\n",
              "29140  emerging technologies tracking covid19 pandemi...  ...       1\n",
              "29141  emerging technologies tracking covid19 pandemi...  ...       1\n",
              "29142  emerging technologies tracking covid19 pandemi...  ...       1\n",
              "29143  wow spain amp france dont new daily cases that...  ...       2\n",
              "29144           thought couldnt get unbelievable covid19  ...       0\n",
              "\n",
              "[29145 rows x 7 columns]"
            ]
          },
          "metadata": {
            "tags": []
          },
          "execution_count": 23
        }
      ]
    },
    {
      "cell_type": "code",
      "metadata": {
        "id": "vC2omJC5BN-r",
        "colab_type": "code",
        "colab": {
          "base_uri": "https://localhost:8080/",
          "height": 35
        },
        "outputId": "8c32db72-d643-4ae5-abe1-e179f1eacf4b"
      },
      "source": [
        "np.unique(df_vader.Analysis)"
      ],
      "execution_count": 24,
      "outputs": [
        {
          "output_type": "execute_result",
          "data": {
            "text/plain": [
              "array(['Negative', 'Neutral', 'Positive'], dtype=object)"
            ]
          },
          "metadata": {
            "tags": []
          },
          "execution_count": 24
        }
      ]
    },
    {
      "cell_type": "code",
      "metadata": {
        "id": "SmZvLzeGBZFX",
        "colab_type": "code",
        "colab": {
          "base_uri": "https://localhost:8080/",
          "height": 88
        },
        "outputId": "205eb1d6-bd14-49ee-8f28-55a0c94f775c"
      },
      "source": [
        "df_vader.Analysis.value_counts()"
      ],
      "execution_count": 25,
      "outputs": [
        {
          "output_type": "execute_result",
          "data": {
            "text/plain": [
              "Neutral     12009\n",
              "Positive    10182\n",
              "Negative     6954\n",
              "Name: Analysis, dtype: int64"
            ]
          },
          "metadata": {
            "tags": []
          },
          "execution_count": 25
        }
      ]
    },
    {
      "cell_type": "code",
      "metadata": {
        "id": "LupDqgZab_jq",
        "colab_type": "code",
        "colab": {
          "base_uri": "https://localhost:8080/",
          "height": 335
        },
        "outputId": "075dd10c-7dd5-4755-8579-f8bed72642c6"
      },
      "source": [
        "import seaborn as sns;\n",
        "import matplotlib.pyplot as plt\n",
        "class_names = ['Neutral', 'Positive', 'Negative']\n",
        "ax = sns.countplot(df_vader.Analysis)\n",
        "plt.xlabel('tweet sentiment')\n",
        "ax.set_xticklabels(class_names);\n",
        "plt.savefig('/content/drive/My Drive/256 project/Figures/tweet_sentiment_count.svg')"
      ],
      "execution_count": 26,
      "outputs": [
        {
          "output_type": "stream",
          "text": [
            "/usr/local/lib/python3.6/dist-packages/statsmodels/tools/_testing.py:19: FutureWarning: pandas.util.testing is deprecated. Use the functions in the public API at pandas.testing instead.\n",
            "  import pandas.util.testing as tm\n"
          ],
          "name": "stderr"
        },
        {
          "output_type": "display_data",
          "data": {
            "image/png": "[encoded data removed]",
            "text/plain": [
              "<Figure size 432x288 with 1 Axes>"
            ]
          },
          "metadata": {
            "tags": [],
            "needs_background": "light"
          }
        }
      ]
    },
    {
      "cell_type": "markdown",
      "metadata": {
        "id": "tQrmIa8dcwsk",
        "colab_type": "text"
      },
      "source": [
        "##Data PreProcessing"
      ]
    },
    {
      "cell_type": "code",
      "metadata": {
        "id": "KnXBfckIjgsx",
        "colab_type": "code",
        "colab": {}
      },
      "source": [
        "import transformers\n",
        "from transformers import BertModel, BertTokenizer, AdamW, get_linear_schedule_with_warmup\n",
        "import torch\n",
        "import numpy as np\n",
        "import pandas as pd\n",
        "import seaborn as sns\n",
        "from pylab import rcParams\n",
        "import matplotlib.pyplot as plt\n",
        "from matplotlib import rc\n",
        "from sklearn.model_selection import train_test_split\n",
        "from sklearn.metrics import confusion_matrix, classification_report\n",
        "from collections import defaultdict\n",
        "from textwrap import wrap\n",
        "from torch import nn, optim\n",
        "import torch.nn.functional as F\n",
        "from torch.utils.data import Dataset, DataLoader\n",
        "%matplotlib inline\n",
        "%config InlineBackend.figure_format='retina'\n",
        "sns.set(style='whitegrid', palette='muted', font_scale=1.2)\n",
        "HAPPY_COLORS_PALETTE = [\"#01BEFE\", \"#FFDD00\", \"#FF7D00\", \"#FF006D\", \"#ADFF02\", \"#8F00FF\"]\n",
        "sns.set_palette(sns.color_palette(HAPPY_COLORS_PALETTE))\n",
        "rcParams['figure.figsize'] = 12, 8\n",
        "RANDOM_SEED = 42\n",
        "np.random.seed(RANDOM_SEED)\n",
        "torch.manual_seed(RANDOM_SEED)\n",
        "device = torch.device(\"cuda:0\" if torch.cuda.is_available() else \"cpu\")"
      ],
      "execution_count": 27,
      "outputs": []
    },
    {
      "cell_type": "code",
      "metadata": {
        "id": "bPHKjKgcCBXG",
        "colab_type": "code",
        "colab": {}
      },
      "source": [
        "class_names=['Negative', 'Neutral', 'Positive']"
      ],
      "execution_count": 28,
      "outputs": []
    },
    {
      "cell_type": "code",
      "metadata": {
        "id": "-Y1qpyMYcLd9",
        "colab_type": "code",
        "colab": {}
      },
      "source": [
        "PRE_TRAINED_MODEL_NAME = 'bert-base-uncased'"
      ],
      "execution_count": 29,
      "outputs": []
    },
    {
      "cell_type": "code",
      "metadata": {
        "id": "MIS3qRX3c9hl",
        "colab_type": "code",
        "colab": {}
      },
      "source": [
        "from transformers import BertTokenizer\n",
        "from torch.utils.data import Dataset,DataLoader"
      ],
      "execution_count": 30,
      "outputs": []
    },
    {
      "cell_type": "code",
      "metadata": {
        "id": "Iq9kkQE4c1X-",
        "colab_type": "code",
        "colab": {
          "base_uri": "https://localhost:8080/",
          "height": 67,
          "referenced_widgets": [
            "6532b9c3712346628339a9c2bbe0a8a8",
            "3aa62c8baf96419788dedac131a63e86",
            "3113422d1d65456c8bab1d95e013c2cf",
            "b9f4d00b533d4a16aaf91577ae79cbb9",
            "57faaef16af9406f8db8f8c3b22550ba",
            "5db05e8d7f6e4eacad10fbcc839b4130",
            "cf4cb07c4a874f1a8ee279d34e201b1d",
            "94845b493b1847fd821881237ca5a9dd"
          ]
        },
        "outputId": "b940e99c-1288-46bc-b654-ea984b9feddb"
      },
      "source": [
        "tokenizer = BertTokenizer.from_pretrained(PRE_TRAINED_MODEL_NAME)"
      ],
      "execution_count": 31,
      "outputs": [
        {
          "output_type": "display_data",
          "data": {
            "application/vnd.jupyter.widget-view+json": {
              "model_id": "6532b9c3712346628339a9c2bbe0a8a8",
              "version_minor": 0,
              "version_major": 2
            },
            "text/plain": [
              "HBox(children=(FloatProgress(value=0.0, description='Downloading', max=231508.0, style=ProgressStyle(descripti…"
            ]
          },
          "metadata": {
            "tags": []
          }
        },
        {
          "output_type": "stream",
          "text": [
            "\n"
          ],
          "name": "stdout"
        }
      ]
    },
    {
      "cell_type": "code",
      "metadata": {
        "id": "TBdCHGxTdL-c",
        "colab_type": "code",
        "colab": {
          "base_uri": "https://localhost:8080/",
          "height": 35
        },
        "outputId": "54d63159-f7a3-45d7-ebfe-96684cadb908"
      },
      "source": [
        "tokenizer.sep_token, tokenizer.sep_token_id"
      ],
      "execution_count": 32,
      "outputs": [
        {
          "output_type": "execute_result",
          "data": {
            "text/plain": [
              "('[SEP]', 102)"
            ]
          },
          "metadata": {
            "tags": []
          },
          "execution_count": 32
        }
      ]
    },
    {
      "cell_type": "code",
      "metadata": {
        "id": "EUB0G1GvdQrs",
        "colab_type": "code",
        "colab": {
          "base_uri": "https://localhost:8080/",
          "height": 35
        },
        "outputId": "b7acfed5-b545-403d-9ada-a9fd83e5d790"
      },
      "source": [
        "tokenizer.cls_token, tokenizer.cls_token_id"
      ],
      "execution_count": 33,
      "outputs": [
        {
          "output_type": "execute_result",
          "data": {
            "text/plain": [
              "('[CLS]', 101)"
            ]
          },
          "metadata": {
            "tags": []
          },
          "execution_count": 33
        }
      ]
    },
    {
      "cell_type": "code",
      "metadata": {
        "id": "vJv_xPUcdSeF",
        "colab_type": "code",
        "colab": {
          "base_uri": "https://localhost:8080/",
          "height": 35
        },
        "outputId": "dc881cfd-902a-4234-84d8-de0519060ac1"
      },
      "source": [
        "tokenizer.pad_token, tokenizer.pad_token_id"
      ],
      "execution_count": 34,
      "outputs": [
        {
          "output_type": "execute_result",
          "data": {
            "text/plain": [
              "('[PAD]', 0)"
            ]
          },
          "metadata": {
            "tags": []
          },
          "execution_count": 34
        }
      ]
    },
    {
      "cell_type": "code",
      "metadata": {
        "id": "k-hV33SxdUIh",
        "colab_type": "code",
        "colab": {
          "base_uri": "https://localhost:8080/",
          "height": 35
        },
        "outputId": "0f6cc6d1-f58b-437c-9169-07fecf90c362"
      },
      "source": [
        "tokenizer.unk_token, tokenizer.unk_token_id"
      ],
      "execution_count": 35,
      "outputs": [
        {
          "output_type": "execute_result",
          "data": {
            "text/plain": [
              "('[UNK]', 100)"
            ]
          },
          "metadata": {
            "tags": []
          },
          "execution_count": 35
        }
      ]
    },
    {
      "cell_type": "code",
      "metadata": {
        "id": "drHbOkdDdx8I",
        "colab_type": "code",
        "colab": {}
      },
      "source": [
        "token_length = []\n",
        "\n",
        "for txt in df_vader.clean_text:\n",
        "  tokens = tokenizer.encode(txt, max_length=512,truncation=True)\n",
        "  token_length.append(len(tokens))"
      ],
      "execution_count": 36,
      "outputs": []
    },
    {
      "cell_type": "code",
      "metadata": {
        "id": "ukywo4KOd2Zm",
        "colab_type": "code",
        "colab": {
          "base_uri": "https://localhost:8080/",
          "height": 506
        },
        "outputId": "cc09714f-d958-4681-c46d-92b87d56e1b2"
      },
      "source": [
        "sns.distplot(token_length)\n",
        "plt.xlim([0, 100]);\n",
        "plt.xlabel('Token count');"
      ],
      "execution_count": 37,
      "outputs": [
        {
          "output_type": "display_data",
          "data": {
            "image/png": "[encoded data removed]",
            "text/plain": [
              "<Figure size 864x576 with 1 Axes>"
            ]
          },
          "metadata": {
            "tags": [],
            "image/png": {
              "width": 735,
              "height": 489
            }
          }
        }
      ]
    },
    {
      "cell_type": "code",
      "metadata": {
        "id": "09_t6ZUTe0t-",
        "colab_type": "code",
        "colab": {}
      },
      "source": [
        "MAX_LEN = 50"
      ],
      "execution_count": 38,
      "outputs": []
    },
    {
      "cell_type": "code",
      "metadata": {
        "id": "notuyTtoe9Rr",
        "colab_type": "code",
        "colab": {}
      },
      "source": [
        "class TwitterDataset(Dataset):\n",
        "\n",
        "  def __init__(self, tweets, targets, tokenizer, max_len):\n",
        "    self.tweets = tweets\n",
        "    self.targets = targets\n",
        "    self.tokenizer = tokenizer\n",
        "    self.max_len = max_len\n",
        "  \n",
        "  def __len__(self):\n",
        "    return len(self.tweets)\n",
        "  \n",
        "  def __getitem__(self, item):\n",
        "    input_ids = []\n",
        "    attention_masks = []   \n",
        "\n",
        "\n",
        "    tweet = str(self.tweets[item])\n",
        "    target = self.targets[item]\n",
        "\n",
        "    encoding = self.tokenizer.encode_plus(\n",
        "      tweet,\n",
        "      add_special_tokens=True,\n",
        "      max_length=self.max_len,\n",
        "      return_token_type_ids=False,\n",
        "      pad_to_max_length=True,\n",
        "      return_attention_mask=True,\n",
        "      truncation=True\n",
        "    )\n",
        "    input_ids.append(encoding['input_ids'])\n",
        "    attention_masks.append(encoding['attention_mask'])\n",
        "\n",
        "    # Convert the lists into tensors.\n",
        "    input_ids = torch.FloatTensor(input_ids)\n",
        "    attention_masks = torch.FloatTensor(attention_masks)\n",
        "\n",
        "    return {\n",
        "      'tweet_text': tweet,\n",
        "      'input_ids': input_ids.flatten(),\n",
        "      'attention_mask': attention_masks.flatten(),\n",
        "      'targets': torch.tensor(target, dtype=torch.long)\n",
        "    }"
      ],
      "execution_count": 39,
      "outputs": []
    },
    {
      "cell_type": "code",
      "metadata": {
        "id": "1huA5ZaygoIn",
        "colab_type": "code",
        "colab": {}
      },
      "source": [
        "df_train, df_test = train_test_split(df_vader,test_size=0.2,random_state=RANDOM_SEED,shuffle=True,stratify=df_vader.target)\n",
        "df_val, df_test = train_test_split(df_test, test_size=0.5, random_state=RANDOM_SEED,shuffle=True,stratify=df_test.target)"
      ],
      "execution_count": 40,
      "outputs": []
    },
    {
      "cell_type": "code",
      "metadata": {
        "id": "KEscQcM9Q2lD",
        "colab_type": "code",
        "colab": {}
      },
      "source": [
        "df_train,df_test, df_val = df_train.reset_index(drop=True), df_test.reset_index(drop=True),df_val.reset_index(drop=True)"
      ],
      "execution_count": 41,
      "outputs": []
    },
    {
      "cell_type": "code",
      "metadata": {
        "id": "neSAaZpVhgCm",
        "colab_type": "code",
        "colab": {
          "base_uri": "https://localhost:8080/",
          "height": 35
        },
        "outputId": "4bb519a5-dd94-4d35-8df9-e8bad17f8ed3"
      },
      "source": [
        "df_train.shape, df_val.shape, df_test.shape"
      ],
      "execution_count": 42,
      "outputs": [
        {
          "output_type": "execute_result",
          "data": {
            "text/plain": [
              "((23316, 7), (2914, 7), (2915, 7))"
            ]
          },
          "metadata": {
            "tags": []
          },
          "execution_count": 42
        }
      ]
    },
    {
      "cell_type": "code",
      "metadata": {
        "id": "6Z0-Z-tEhj9C",
        "colab_type": "code",
        "colab": {}
      },
      "source": [
        "def create_data_loader(df,tokenizer,max_len,batch_size):\n",
        "    data = TwitterDataset(\n",
        "        tweets = df.clean_text,\n",
        "        targets = df.target.to_numpy(),\n",
        "        tokenizer=tokenizer,\n",
        "        max_len=max_len\n",
        "      \n",
        "    )\n",
        "\n",
        "    return DataLoader(\n",
        "        data,\n",
        "        batch_size=batch_size,\n",
        "        num_workers=0\n",
        "    )"
      ],
      "execution_count": 43,
      "outputs": []
    },
    {
      "cell_type": "code",
      "metadata": {
        "id": "IFSMneA4iTJn",
        "colab_type": "code",
        "colab": {}
      },
      "source": [
        "BATCH_SIZE = 16\n",
        "\n",
        "train_data_loader = create_data_loader(df_train, tokenizer, MAX_LEN, BATCH_SIZE)\n",
        "val_data_loader = create_data_loader(df_val, tokenizer, MAX_LEN, BATCH_SIZE)\n",
        "test_data_loader = create_data_loader(df_test, tokenizer, MAX_LEN, BATCH_SIZE)"
      ],
      "execution_count": 44,
      "outputs": []
    },
    {
      "cell_type": "code",
      "metadata": {
        "id": "ayBw49spInZx",
        "colab_type": "code",
        "colab": {
          "base_uri": "https://localhost:8080/",
          "height": 35
        },
        "outputId": "1c17bb1b-a03a-400e-95a9-b100012c247b"
      },
      "source": [
        "print(len(train_data_loader))"
      ],
      "execution_count": 45,
      "outputs": [
        {
          "output_type": "stream",
          "text": [
            "1458\n"
          ],
          "name": "stdout"
        }
      ]
    },
    {
      "cell_type": "code",
      "metadata": {
        "id": "X4njFrSziYAA",
        "colab_type": "code",
        "colab": {
          "base_uri": "https://localhost:8080/",
          "height": 35
        },
        "outputId": "da97118b-d0d7-499f-e9b2-0d12df8875cf"
      },
      "source": [
        "data = next(iter(train_data_loader))\n",
        "data.keys()"
      ],
      "execution_count": 46,
      "outputs": [
        {
          "output_type": "execute_result",
          "data": {
            "text/plain": [
              "dict_keys(['tweet_text', 'input_ids', 'attention_mask', 'targets'])"
            ]
          },
          "metadata": {
            "tags": []
          },
          "execution_count": 46
        }
      ]
    },
    {
      "cell_type": "code",
      "metadata": {
        "id": "PGKq4vupizMv",
        "colab_type": "code",
        "colab": {
          "base_uri": "https://localhost:8080/",
          "height": 70
        },
        "outputId": "64c19802-f99d-40d8-ac29-4639580db653"
      },
      "source": [
        "print(data['input_ids'].shape)\n",
        "print(data['attention_mask'].shape)\n",
        "print(data['targets'].shape)"
      ],
      "execution_count": 47,
      "outputs": [
        {
          "output_type": "stream",
          "text": [
            "torch.Size([16, 50])\n",
            "torch.Size([16, 50])\n",
            "torch.Size([16])\n"
          ],
          "name": "stdout"
        }
      ]
    },
    {
      "cell_type": "markdown",
      "metadata": {
        "id": "bkGfHDi9nJ_M",
        "colab_type": "text"
      },
      "source": [
        "##Sentiment Classification with BERT and Hugging Face"
      ]
    },
    {
      "cell_type": "code",
      "metadata": {
        "id": "l8DFkIQTkFA6",
        "colab_type": "code",
        "colab": {
          "base_uri": "https://localhost:8080/",
          "height": 116,
          "referenced_widgets": [
            "87c89632cd07429a8d49959596591299",
            "b35fbf825fca4627ad83a51414e44ed5",
            "fefae33f4dff49daaf5647b5d105811b",
            "f2c688bff5a54e3d8474e4e4466da430",
            "8693edd388ff4430a8c9381134080a78",
            "84ee5382edd145c7b74dde9d6b09abf7",
            "4373d7aec6ca4c03911ff321e57f5d87",
            "543e35bb3da14efa8e268dc7795f4321",
            "f75b91afed924422b847ba2dacff1275",
            "039aab53bf75497ba8ca89717936de32",
            "d0152d0bc99d46bba68f672d65d1d4ef",
            "0570f3ffb8814935aa89baac1ee1c7af",
            "9436c2f472674c6fb1f4cf25aad95041",
            "e986b439f00f47718fd7056a92369adc",
            "b82b8dffaa44414a867da7bb2f908641",
            "b97ee5a2825d411da91a852dc5f9c27c"
          ]
        },
        "outputId": "42627531-0eba-4db3-db1e-579d955c43df"
      },
      "source": [
        "bert_model = BertModel.from_pretrained(PRE_TRAINED_MODEL_NAME)"
      ],
      "execution_count": 48,
      "outputs": [
        {
          "output_type": "display_data",
          "data": {
            "application/vnd.jupyter.widget-view+json": {
              "model_id": "87c89632cd07429a8d49959596591299",
              "version_minor": 0,
              "version_major": 2
            },
            "text/plain": [
              "HBox(children=(FloatProgress(value=0.0, description='Downloading', max=433.0, style=ProgressStyle(description_…"
            ]
          },
          "metadata": {
            "tags": []
          }
        },
        {
          "output_type": "stream",
          "text": [
            "\n"
          ],
          "name": "stdout"
        },
        {
          "output_type": "display_data",
          "data": {
            "application/vnd.jupyter.widget-view+json": {
              "model_id": "f75b91afed924422b847ba2dacff1275",
              "version_minor": 0,
              "version_major": 2
            },
            "text/plain": [
              "HBox(children=(FloatProgress(value=0.0, description='Downloading', max=440473133.0, style=ProgressStyle(descri…"
            ]
          },
          "metadata": {
            "tags": []
          }
        },
        {
          "output_type": "stream",
          "text": [
            "\n"
          ],
          "name": "stdout"
        }
      ]
    },
    {
      "cell_type": "code",
      "metadata": {
        "id": "nuWNUeuknvK8",
        "colab_type": "code",
        "colab": {
          "base_uri": "https://localhost:8080/",
          "height": 35
        },
        "outputId": "3839ce0c-00ab-4140-91c4-8937108a1ee1"
      },
      "source": [
        "bert_model.config.hidden_size"
      ],
      "execution_count": 49,
      "outputs": [
        {
          "output_type": "execute_result",
          "data": {
            "text/plain": [
              "768"
            ]
          },
          "metadata": {
            "tags": []
          },
          "execution_count": 49
        }
      ]
    },
    {
      "cell_type": "code",
      "metadata": {
        "id": "3l3d7IRxn4C3",
        "colab_type": "code",
        "colab": {}
      },
      "source": [
        "class SentimentClassifier(nn.Module):\n",
        "\n",
        "    def __init__(self,n_classes):\n",
        "        super(SentimentClassifier,self).__init__()\n",
        "        self.bert = BertModel.from_pretrained(PRE_TRAINED_MODEL_NAME)\n",
        "        self.drop = nn.Dropout(p=0.3)\n",
        "        self.out = nn.Linear(self.bert.config.hidden_size,n_classes)\n",
        "\n",
        "    def forward(self,input_ids,attention_mask):\n",
        "        _, pooled_output = self.bert(\n",
        "          input_ids=input_ids,\n",
        "          attention_mask=attention_mask\n",
        "        ) \n",
        "        output = self.drop(pooled_output)\n",
        "        return self.out(output)"
      ],
      "execution_count": 50,
      "outputs": []
    },
    {
      "cell_type": "code",
      "metadata": {
        "id": "x7ZdMLi9o1GD",
        "colab_type": "code",
        "colab": {}
      },
      "source": [
        "model = SentimentClassifier(len(class_names))\n",
        "model = model.to(device)"
      ],
      "execution_count": 51,
      "outputs": []
    },
    {
      "cell_type": "code",
      "metadata": {
        "id": "6VgGQssFo_xd",
        "colab_type": "code",
        "colab": {
          "base_uri": "https://localhost:8080/",
          "height": 52
        },
        "outputId": "d311c419-0d7f-4627-a1c0-0b218b3b3e1d"
      },
      "source": [
        "input_ids = data['input_ids'].to(device)\n",
        "attention_mask = data['attention_mask'].to(device)\n",
        "\n",
        "print(input_ids.shape) # batch size x seq length\n",
        "print(attention_mask.shape) # batch size x seq length"
      ],
      "execution_count": 52,
      "outputs": [
        {
          "output_type": "stream",
          "text": [
            "torch.Size([16, 50])\n",
            "torch.Size([16, 50])\n"
          ],
          "name": "stdout"
        }
      ]
    },
    {
      "cell_type": "code",
      "metadata": {
        "id": "9h7fQfRMpxuS",
        "colab_type": "code",
        "colab": {
          "base_uri": "https://localhost:8080/",
          "height": 301
        },
        "outputId": "e899b91f-de4b-458d-aa4e-2ee5b9d909a3"
      },
      "source": [
        "F.softmax(model(input_ids.to(torch.int64),attention_mask.to(torch.int64)),dim=1)"
      ],
      "execution_count": 53,
      "outputs": [
        {
          "output_type": "execute_result",
          "data": {
            "text/plain": [
              "tensor([[0.4834, 0.3116, 0.2051],\n",
              "        [0.3208, 0.2915, 0.3877],\n",
              "        [0.2878, 0.2800, 0.4322],\n",
              "        [0.3856, 0.2498, 0.3646],\n",
              "        [0.3826, 0.4031, 0.2144],\n",
              "        [0.2989, 0.3001, 0.4010],\n",
              "        [0.3971, 0.3010, 0.3019],\n",
              "        [0.4031, 0.3057, 0.2913],\n",
              "        [0.3927, 0.1513, 0.4559],\n",
              "        [0.3492, 0.2625, 0.3883],\n",
              "        [0.2918, 0.2813, 0.4269],\n",
              "        [0.4001, 0.2137, 0.3862],\n",
              "        [0.3188, 0.3144, 0.3667],\n",
              "        [0.3055, 0.2557, 0.4388],\n",
              "        [0.3399, 0.3027, 0.3574],\n",
              "        [0.4134, 0.2264, 0.3603]], device='cuda:0', grad_fn=<SoftmaxBackward>)"
            ]
          },
          "metadata": {
            "tags": []
          },
          "execution_count": 53
        }
      ]
    },
    {
      "cell_type": "markdown",
      "metadata": {
        "id": "DmhkH6_bsHZ1",
        "colab_type": "text"
      },
      "source": [
        "##Training"
      ]
    },
    {
      "cell_type": "code",
      "metadata": {
        "id": "XwOn1IcgqAhV",
        "colab_type": "code",
        "colab": {}
      },
      "source": [
        "EPOCHS=10\n",
        "\n",
        "optimizer = AdamW(model.parameters(),lr=2e-5,correct_bias=False)\n",
        "total_no_steps = len(train_data_loader)*EPOCHS\n",
        "\n",
        "scheduler = get_linear_schedule_with_warmup(optimizer,\n",
        "                                            num_warmup_steps=0,\n",
        "                                            num_training_steps=total_no_steps)\n",
        "\n",
        "loss_fn = nn.CrossEntropyLoss().to(device)"
      ],
      "execution_count": 55,
      "outputs": []
    },
    {
      "cell_type": "code",
      "metadata": {
        "id": "QnYz2djN5s7z",
        "colab_type": "code",
        "colab": {}
      },
      "source": [
        "def flat_accuracy(preds, labels):\n",
        "    pred_flat = np.argmax(preds, axis=1).flatten()\n",
        "    labels_flat = labels.flatten()\n",
        "    return np.sum(pred_flat == labels_flat) / len(labels_flat)"
      ],
      "execution_count": 56,
      "outputs": []
    },
    {
      "cell_type": "code",
      "metadata": {
        "id": "9EiKtYsJs8-f",
        "colab_type": "code",
        "colab": {}
      },
      "source": [
        "def train_epoch(model,data_loader,loss_fn,optimizer,device,scheduler,num_examples):\n",
        "    model = model.train()\n",
        "    losses=[]\n",
        "    correct_predictions=0\n",
        "    i=0\n",
        "    for d in data_loader:\n",
        "      input_ids = d[\"input_ids\"].to(torch.int64).to(device)\n",
        "      attention_mask = d[\"attention_mask\"].to(torch.int64).to(device)\n",
        "      targets = d[\"targets\"].to(device)\n",
        "\n",
        "      outputs = model(\n",
        "          input_ids=input_ids,\n",
        "        attention_mask=attention_mask\n",
        "      )\n",
        "      \n",
        "      _,preds = torch.max(outputs,dim=1)\n",
        "      loss = loss_fn(outputs,targets)\n",
        "\n",
        "      correct_predictions+=preds.eq(targets.data).sum()\n",
        "      losses.append(loss.item())\n",
        "\n",
        "      loss.backward()\n",
        "      nn.utils.clip_grad_norm_(model.parameters(),max_norm=1.0)\n",
        "      optimizer.step()\n",
        "      scheduler.step()\n",
        "      optimizer.zero_grad()\n",
        "      i+=1\n",
        "    return correct_predictions.double() / num_examples, np.mean(losses)\n",
        "\n"
      ],
      "execution_count": 60,
      "outputs": []
    },
    {
      "cell_type": "code",
      "metadata": {
        "id": "0iCNPNLtuq51",
        "colab_type": "code",
        "colab": {}
      },
      "source": [
        "def eval_model(model,data_loader,loss_fn,device,num_examples):\n",
        "    model = model.eval()\n",
        "\n",
        "    losses=[]\n",
        "    correct_predictions=0\n",
        "\n",
        "    with torch.no_grad():\n",
        "      for d in data_loader:\n",
        "        input_ids = d[\"input_ids\"].to(torch.int64).to(device)\n",
        "        attention_mask = d[\"attention_mask\"].to(torch.int64).to(device)\n",
        "        targets = d[\"targets\"].to(device)\n",
        "\n",
        "        outputs = model(\n",
        "            input_ids=input_ids,\n",
        "            attention_mask=attention_mask\n",
        "        )\n",
        "\n",
        "        _,preds = torch.max(outputs,dim=1)\n",
        "\n",
        "        loss=loss_fn(outputs,targets)\n",
        "\n",
        "        correct_predictions += preds.eq(targets.data).sum()\n",
        "        losses.append(loss.item())\n",
        " \n",
        "    return  correct_predictions.double() / num_examples, np.mean(losses)\n"
      ],
      "execution_count": 61,
      "outputs": []
    },
    {
      "cell_type": "code",
      "metadata": {
        "id": "qEouAatasxAr",
        "colab_type": "code",
        "colab": {
          "base_uri": "https://localhost:8080/",
          "height": 1000
        },
        "outputId": "0d288ecd-519e-471d-91aa-e4be9023d098"
      },
      "source": [
        "model.cuda"
      ],
      "execution_count": 62,
      "outputs": [
        {
          "output_type": "execute_result",
          "data": {
            "text/plain": [
              "<bound method Module.cuda of SentimentClassifier(\n",
              "  (bert): BertModel(\n",
              "    (embeddings): BertEmbeddings(\n",
              "      (word_embeddings): Embedding(30522, 768, padding_idx=0)\n",
              "      (position_embeddings): Embedding(512, 768)\n",
              "      (token_type_embeddings): Embedding(2, 768)\n",
              "      (LayerNorm): LayerNorm((768,), eps=1e-12, elementwise_affine=True)\n",
              "      (dropout): Dropout(p=0.1, inplace=False)\n",
              "    )\n",
              "    (encoder): BertEncoder(\n",
              "      (layer): ModuleList(\n",
              "        (0): BertLayer(\n",
              "          (attention): BertAttention(\n",
              "            (self): BertSelfAttention(\n",
              "              (query): Linear(in_features=768, out_features=768, bias=True)\n",
              "              (key): Linear(in_features=768, out_features=768, bias=True)\n",
              "              (value): Linear(in_features=768, out_features=768, bias=True)\n",
              "              (dropout): Dropout(p=0.1, inplace=False)\n",
              "            )\n",
              "            (output): BertSelfOutput(\n",
              "              (dense): Linear(in_features=768, out_features=768, bias=True)\n",
              "              (LayerNorm): LayerNorm((768,), eps=1e-12, elementwise_affine=True)\n",
              "              (dropout): Dropout(p=0.1, inplace=False)\n",
              "            )\n",
              "          )\n",
              "          (intermediate): BertIntermediate(\n",
              "            (dense): Linear(in_features=768, out_features=3072, bias=True)\n",
              "          )\n",
              "          (output): BertOutput(\n",
              "            (dense): Linear(in_features=3072, out_features=768, bias=True)\n",
              "            (LayerNorm): LayerNorm((768,), eps=1e-12, elementwise_affine=True)\n",
              "            (dropout): Dropout(p=0.1, inplace=False)\n",
              "          )\n",
              "        )\n",
              "        (1): BertLayer(\n",
              "          (attention): BertAttention(\n",
              "            (self): BertSelfAttention(\n",
              "              (query): Linear(in_features=768, out_features=768, bias=True)\n",
              "              (key): Linear(in_features=768, out_features=768, bias=True)\n",
              "              (value): Linear(in_features=768, out_features=768, bias=True)\n",
              "              (dropout): Dropout(p=0.1, inplace=False)\n",
              "            )\n",
              "            (output): BertSelfOutput(\n",
              "              (dense): Linear(in_features=768, out_features=768, bias=True)\n",
              "              (LayerNorm): LayerNorm((768,), eps=1e-12, elementwise_affine=True)\n",
              "              (dropout): Dropout(p=0.1, inplace=False)\n",
              "            )\n",
              "          )\n",
              "          (intermediate): BertIntermediate(\n",
              "            (dense): Linear(in_features=768, out_features=3072, bias=True)\n",
              "          )\n",
              "          (output): BertOutput(\n",
              "            (dense): Linear(in_features=3072, out_features=768, bias=True)\n",
              "            (LayerNorm): LayerNorm((768,), eps=1e-12, elementwise_affine=True)\n",
              "            (dropout): Dropout(p=0.1, inplace=False)\n",
              "          )\n",
              "        )\n",
              "        (2): BertLayer(\n",
              "          (attention): BertAttention(\n",
              "            (self): BertSelfAttention(\n",
              "              (query): Linear(in_features=768, out_features=768, bias=True)\n",
              "              (key): Linear(in_features=768, out_features=768, bias=True)\n",
              "              (value): Linear(in_features=768, out_features=768, bias=True)\n",
              "              (dropout): Dropout(p=0.1, inplace=False)\n",
              "            )\n",
              "            (output): BertSelfOutput(\n",
              "              (dense): Linear(in_features=768, out_features=768, bias=True)\n",
              "              (LayerNorm): LayerNorm((768,), eps=1e-12, elementwise_affine=True)\n",
              "              (dropout): Dropout(p=0.1, inplace=False)\n",
              "            )\n",
              "          )\n",
              "          (intermediate): BertIntermediate(\n",
              "            (dense): Linear(in_features=768, out_features=3072, bias=True)\n",
              "          )\n",
              "          (output): BertOutput(\n",
              "            (dense): Linear(in_features=3072, out_features=768, bias=True)\n",
              "            (LayerNorm): LayerNorm((768,), eps=1e-12, elementwise_affine=True)\n",
              "            (dropout): Dropout(p=0.1, inplace=False)\n",
              "          )\n",
              "        )\n",
              "        (3): BertLayer(\n",
              "          (attention): BertAttention(\n",
              "            (self): BertSelfAttention(\n",
              "              (query): Linear(in_features=768, out_features=768, bias=True)\n",
              "              (key): Linear(in_features=768, out_features=768, bias=True)\n",
              "              (value): Linear(in_features=768, out_features=768, bias=True)\n",
              "              (dropout): Dropout(p=0.1, inplace=False)\n",
              "            )\n",
              "            (output): BertSelfOutput(\n",
              "              (dense): Linear(in_features=768, out_features=768, bias=True)\n",
              "              (LayerNorm): LayerNorm((768,), eps=1e-12, elementwise_affine=True)\n",
              "              (dropout): Dropout(p=0.1, inplace=False)\n",
              "            )\n",
              "          )\n",
              "          (intermediate): BertIntermediate(\n",
              "            (dense): Linear(in_features=768, out_features=3072, bias=True)\n",
              "          )\n",
              "          (output): BertOutput(\n",
              "            (dense): Linear(in_features=3072, out_features=768, bias=True)\n",
              "            (LayerNorm): LayerNorm((768,), eps=1e-12, elementwise_affine=True)\n",
              "            (dropout): Dropout(p=0.1, inplace=False)\n",
              "          )\n",
              "        )\n",
              "        (4): BertLayer(\n",
              "          (attention): BertAttention(\n",
              "            (self): BertSelfAttention(\n",
              "              (query): Linear(in_features=768, out_features=768, bias=True)\n",
              "              (key): Linear(in_features=768, out_features=768, bias=True)\n",
              "              (value): Linear(in_features=768, out_features=768, bias=True)\n",
              "              (dropout): Dropout(p=0.1, inplace=False)\n",
              "            )\n",
              "            (output): BertSelfOutput(\n",
              "              (dense): Linear(in_features=768, out_features=768, bias=True)\n",
              "              (LayerNorm): LayerNorm((768,), eps=1e-12, elementwise_affine=True)\n",
              "              (dropout): Dropout(p=0.1, inplace=False)\n",
              "            )\n",
              "          )\n",
              "          (intermediate): BertIntermediate(\n",
              "            (dense): Linear(in_features=768, out_features=3072, bias=True)\n",
              "          )\n",
              "          (output): BertOutput(\n",
              "            (dense): Linear(in_features=3072, out_features=768, bias=True)\n",
              "            (LayerNorm): LayerNorm((768,), eps=1e-12, elementwise_affine=True)\n",
              "            (dropout): Dropout(p=0.1, inplace=False)\n",
              "          )\n",
              "        )\n",
              "        (5): BertLayer(\n",
              "          (attention): BertAttention(\n",
              "            (self): BertSelfAttention(\n",
              "              (query): Linear(in_features=768, out_features=768, bias=True)\n",
              "              (key): Linear(in_features=768, out_features=768, bias=True)\n",
              "              (value): Linear(in_features=768, out_features=768, bias=True)\n",
              "              (dropout): Dropout(p=0.1, inplace=False)\n",
              "            )\n",
              "            (output): BertSelfOutput(\n",
              "              (dense): Linear(in_features=768, out_features=768, bias=True)\n",
              "              (LayerNorm): LayerNorm((768,), eps=1e-12, elementwise_affine=True)\n",
              "              (dropout): Dropout(p=0.1, inplace=False)\n",
              "            )\n",
              "          )\n",
              "          (intermediate): BertIntermediate(\n",
              "            (dense): Linear(in_features=768, out_features=3072, bias=True)\n",
              "          )\n",
              "          (output): BertOutput(\n",
              "            (dense): Linear(in_features=3072, out_features=768, bias=True)\n",
              "            (LayerNorm): LayerNorm((768,), eps=1e-12, elementwise_affine=True)\n",
              "            (dropout): Dropout(p=0.1, inplace=False)\n",
              "          )\n",
              "        )\n",
              "        (6): BertLayer(\n",
              "          (attention): BertAttention(\n",
              "            (self): BertSelfAttention(\n",
              "              (query): Linear(in_features=768, out_features=768, bias=True)\n",
              "              (key): Linear(in_features=768, out_features=768, bias=True)\n",
              "              (value): Linear(in_features=768, out_features=768, bias=True)\n",
              "              (dropout): Dropout(p=0.1, inplace=False)\n",
              "            )\n",
              "            (output): BertSelfOutput(\n",
              "              (dense): Linear(in_features=768, out_features=768, bias=True)\n",
              "              (LayerNorm): LayerNorm((768,), eps=1e-12, elementwise_affine=True)\n",
              "              (dropout): Dropout(p=0.1, inplace=False)\n",
              "            )\n",
              "          )\n",
              "          (intermediate): BertIntermediate(\n",
              "            (dense): Linear(in_features=768, out_features=3072, bias=True)\n",
              "          )\n",
              "          (output): BertOutput(\n",
              "            (dense): Linear(in_features=3072, out_features=768, bias=True)\n",
              "            (LayerNorm): LayerNorm((768,), eps=1e-12, elementwise_affine=True)\n",
              "            (dropout): Dropout(p=0.1, inplace=False)\n",
              "          )\n",
              "        )\n",
              "        (7): BertLayer(\n",
              "          (attention): BertAttention(\n",
              "            (self): BertSelfAttention(\n",
              "              (query): Linear(in_features=768, out_features=768, bias=True)\n",
              "              (key): Linear(in_features=768, out_features=768, bias=True)\n",
              "              (value): Linear(in_features=768, out_features=768, bias=True)\n",
              "              (dropout): Dropout(p=0.1, inplace=False)\n",
              "            )\n",
              "            (output): BertSelfOutput(\n",
              "              (dense): Linear(in_features=768, out_features=768, bias=True)\n",
              "              (LayerNorm): LayerNorm((768,), eps=1e-12, elementwise_affine=True)\n",
              "              (dropout): Dropout(p=0.1, inplace=False)\n",
              "            )\n",
              "          )\n",
              "          (intermediate): BertIntermediate(\n",
              "            (dense): Linear(in_features=768, out_features=3072, bias=True)\n",
              "          )\n",
              "          (output): BertOutput(\n",
              "            (dense): Linear(in_features=3072, out_features=768, bias=True)\n",
              "            (LayerNorm): LayerNorm((768,), eps=1e-12, elementwise_affine=True)\n",
              "            (dropout): Dropout(p=0.1, inplace=False)\n",
              "          )\n",
              "        )\n",
              "        (8): BertLayer(\n",
              "          (attention): BertAttention(\n",
              "            (self): BertSelfAttention(\n",
              "              (query): Linear(in_features=768, out_features=768, bias=True)\n",
              "              (key): Linear(in_features=768, out_features=768, bias=True)\n",
              "              (value): Linear(in_features=768, out_features=768, bias=True)\n",
              "              (dropout): Dropout(p=0.1, inplace=False)\n",
              "            )\n",
              "            (output): BertSelfOutput(\n",
              "              (dense): Linear(in_features=768, out_features=768, bias=True)\n",
              "              (LayerNorm): LayerNorm((768,), eps=1e-12, elementwise_affine=True)\n",
              "              (dropout): Dropout(p=0.1, inplace=False)\n",
              "            )\n",
              "          )\n",
              "          (intermediate): BertIntermediate(\n",
              "            (dense): Linear(in_features=768, out_features=3072, bias=True)\n",
              "          )\n",
              "          (output): BertOutput(\n",
              "            (dense): Linear(in_features=3072, out_features=768, bias=True)\n",
              "            (LayerNorm): LayerNorm((768,), eps=1e-12, elementwise_affine=True)\n",
              "            (dropout): Dropout(p=0.1, inplace=False)\n",
              "          )\n",
              "        )\n",
              "        (9): BertLayer(\n",
              "          (attention): BertAttention(\n",
              "            (self): BertSelfAttention(\n",
              "              (query): Linear(in_features=768, out_features=768, bias=True)\n",
              "              (key): Linear(in_features=768, out_features=768, bias=True)\n",
              "              (value): Linear(in_features=768, out_features=768, bias=True)\n",
              "              (dropout): Dropout(p=0.1, inplace=False)\n",
              "            )\n",
              "            (output): BertSelfOutput(\n",
              "              (dense): Linear(in_features=768, out_features=768, bias=True)\n",
              "              (LayerNorm): LayerNorm((768,), eps=1e-12, elementwise_affine=True)\n",
              "              (dropout): Dropout(p=0.1, inplace=False)\n",
              "            )\n",
              "          )\n",
              "          (intermediate): BertIntermediate(\n",
              "            (dense): Linear(in_features=768, out_features=3072, bias=True)\n",
              "          )\n",
              "          (output): BertOutput(\n",
              "            (dense): Linear(in_features=3072, out_features=768, bias=True)\n",
              "            (LayerNorm): LayerNorm((768,), eps=1e-12, elementwise_affine=True)\n",
              "            (dropout): Dropout(p=0.1, inplace=False)\n",
              "          )\n",
              "        )\n",
              "        (10): BertLayer(\n",
              "          (attention): BertAttention(\n",
              "            (self): BertSelfAttention(\n",
              "              (query): Linear(in_features=768, out_features=768, bias=True)\n",
              "              (key): Linear(in_features=768, out_features=768, bias=True)\n",
              "              (value): Linear(in_features=768, out_features=768, bias=True)\n",
              "              (dropout): Dropout(p=0.1, inplace=False)\n",
              "            )\n",
              "            (output): BertSelfOutput(\n",
              "              (dense): Linear(in_features=768, out_features=768, bias=True)\n",
              "              (LayerNorm): LayerNorm((768,), eps=1e-12, elementwise_affine=True)\n",
              "              (dropout): Dropout(p=0.1, inplace=False)\n",
              "            )\n",
              "          )\n",
              "          (intermediate): BertIntermediate(\n",
              "            (dense): Linear(in_features=768, out_features=3072, bias=True)\n",
              "          )\n",
              "          (output): BertOutput(\n",
              "            (dense): Linear(in_features=3072, out_features=768, bias=True)\n",
              "            (LayerNorm): LayerNorm((768,), eps=1e-12, elementwise_affine=True)\n",
              "            (dropout): Dropout(p=0.1, inplace=False)\n",
              "          )\n",
              "        )\n",
              "        (11): BertLayer(\n",
              "          (attention): BertAttention(\n",
              "            (self): BertSelfAttention(\n",
              "              (query): Linear(in_features=768, out_features=768, bias=True)\n",
              "              (key): Linear(in_features=768, out_features=768, bias=True)\n",
              "              (value): Linear(in_features=768, out_features=768, bias=True)\n",
              "              (dropout): Dropout(p=0.1, inplace=False)\n",
              "            )\n",
              "            (output): BertSelfOutput(\n",
              "              (dense): Linear(in_features=768, out_features=768, bias=True)\n",
              "              (LayerNorm): LayerNorm((768,), eps=1e-12, elementwise_affine=True)\n",
              "              (dropout): Dropout(p=0.1, inplace=False)\n",
              "            )\n",
              "          )\n",
              "          (intermediate): BertIntermediate(\n",
              "            (dense): Linear(in_features=768, out_features=3072, bias=True)\n",
              "          )\n",
              "          (output): BertOutput(\n",
              "            (dense): Linear(in_features=3072, out_features=768, bias=True)\n",
              "            (LayerNorm): LayerNorm((768,), eps=1e-12, elementwise_affine=True)\n",
              "            (dropout): Dropout(p=0.1, inplace=False)\n",
              "          )\n",
              "        )\n",
              "      )\n",
              "    )\n",
              "    (pooler): BertPooler(\n",
              "      (dense): Linear(in_features=768, out_features=768, bias=True)\n",
              "      (activation): Tanh()\n",
              "    )\n",
              "  )\n",
              "  (drop): Dropout(p=0.3, inplace=False)\n",
              "  (out): Linear(in_features=768, out_features=3, bias=True)\n",
              ")>"
            ]
          },
          "metadata": {
            "tags": []
          },
          "execution_count": 62
        }
      ]
    },
    {
      "cell_type": "code",
      "metadata": {
        "id": "0ZdDukxcs0Qu",
        "colab_type": "code",
        "colab": {
          "base_uri": "https://localhost:8080/",
          "height": 639
        },
        "outputId": "ee07e9f8-7f9d-4174-c9da-de10705253f8"
      },
      "source": [
        "params = list(model.named_parameters())\n",
        "print(f'The BERT model has {len(params)} different named parameters.\\n')\n",
        "print('**** Embedding Layer ****\\n')\n",
        "\n",
        "for par in params[0:5]:\n",
        "    print(\"{:<55} {:>12}\".format(par[0], str(tuple(par[1].size()))))\n",
        "\n",
        "print('\\n**** First Transformer ****\\n')\n",
        "\n",
        "for par in params[5:21]:\n",
        "    print(\"{:<55} {:>12}\".format(par[0], str(tuple(par[1].size()))))\n",
        "\n",
        "print('\\n**** Output Layer ****\\n')\n",
        "\n",
        "for par in params[-4:]:\n",
        "    print(\"{:<55} {:>12}\".format(par[0], str(tuple(par[1].size()))))"
      ],
      "execution_count": 63,
      "outputs": [
        {
          "output_type": "stream",
          "text": [
            "The BERT model has 201 different named parameters.\n",
            "\n",
            "**** Embedding Layer ****\n",
            "\n",
            "bert.embeddings.word_embeddings.weight                  (30522, 768)\n",
            "bert.embeddings.position_embeddings.weight                (512, 768)\n",
            "bert.embeddings.token_type_embeddings.weight                (2, 768)\n",
            "bert.embeddings.LayerNorm.weight                              (768,)\n",
            "bert.embeddings.LayerNorm.bias                                (768,)\n",
            "\n",
            "**** First Transformer ****\n",
            "\n",
            "bert.encoder.layer.0.attention.self.query.weight          (768, 768)\n",
            "bert.encoder.layer.0.attention.self.query.bias                (768,)\n",
            "bert.encoder.layer.0.attention.self.key.weight            (768, 768)\n",
            "bert.encoder.layer.0.attention.self.key.bias                  (768,)\n",
            "bert.encoder.layer.0.attention.self.value.weight          (768, 768)\n",
            "bert.encoder.layer.0.attention.self.value.bias                (768,)\n",
            "bert.encoder.layer.0.attention.output.dense.weight        (768, 768)\n",
            "bert.encoder.layer.0.attention.output.dense.bias              (768,)\n",
            "bert.encoder.layer.0.attention.output.LayerNorm.weight        (768,)\n",
            "bert.encoder.layer.0.attention.output.LayerNorm.bias          (768,)\n",
            "bert.encoder.layer.0.intermediate.dense.weight           (3072, 768)\n",
            "bert.encoder.layer.0.intermediate.dense.bias                 (3072,)\n",
            "bert.encoder.layer.0.output.dense.weight                 (768, 3072)\n",
            "bert.encoder.layer.0.output.dense.bias                        (768,)\n",
            "bert.encoder.layer.0.output.LayerNorm.weight                  (768,)\n",
            "bert.encoder.layer.0.output.LayerNorm.bias                    (768,)\n",
            "\n",
            "**** Output Layer ****\n",
            "\n",
            "bert.pooler.dense.weight                                  (768, 768)\n",
            "bert.pooler.dense.bias                                        (768,)\n",
            "out.weight                                                  (3, 768)\n",
            "out.bias                                                        (3,)\n"
          ],
          "name": "stdout"
        }
      ]
    },
    {
      "cell_type": "code",
      "metadata": {
        "id": "2nn28xx7vtAi",
        "colab_type": "code",
        "colab": {
          "base_uri": "https://localhost:8080/",
          "height": 941
        },
        "outputId": "838681f6-6640-43ef-b673-520facfd8751"
      },
      "source": [
        "%%time\n",
        "\n",
        "history =defaultdict(list)\n",
        "best_accuracy=0\n",
        "\n",
        "for epoch in range(EPOCHS):\n",
        "    print(f'Epoch {epoch+1}/{EPOCHS}')\n",
        "    print('-' * 10)\n",
        "\n",
        "    train_acc,train_loss = train_epoch(model,train_data_loader,loss_fn,optimizer,device,scheduler,len(train_data_loader.dataset))\n",
        "\n",
        "    print(f'Train loss {train_loss} accuracy {train_acc}')\n",
        "\n",
        "    val_acc,val_loss = eval_model(model,val_data_loader,loss_fn,device,len(val_data_loader.dataset))\n",
        "    print(f'Val loss {val_loss} accuracy {val_acc}')\n",
        "    print()\n",
        "\n",
        "    history['train_acc'].append(train_acc)\n",
        "    history['train_loss'].append(train_loss)\n",
        "    history['val_acc'].append(val_acc)\n",
        "    history['val_loss'].append(val_loss)\n",
        "\n",
        "    if val_acc > best_accuracy:\n",
        "        torch.save(model.state_dict(), '/content/drive/My Drive/256 project/Sentiment Analysis/best_model_state.bin')\n",
        "        best_accuracy = val_acc\n"
      ],
      "execution_count": 64,
      "outputs": [
        {
          "output_type": "stream",
          "text": [
            "Epoch 1/10\n",
            "----------\n",
            "Train loss 0.34770341252123066 accuracy 0.8748069994853319\n",
            "Val loss 0.16854892777981328 accuracy 0.9547014413177762\n",
            "\n",
            "Epoch 2/10\n",
            "----------\n",
            "Train loss 0.09901233949717352 accuracy 0.9766254932235374\n",
            "Val loss 0.1398091076388497 accuracy 0.9722031571722718\n",
            "\n",
            "Epoch 3/10\n",
            "----------\n",
            "Train loss 0.04791907655055311 accuracy 0.9897495282209641\n",
            "Val loss 0.18191520066521846 accuracy 0.9711736444749485\n",
            "\n",
            "Epoch 4/10\n",
            "----------\n",
            "Train loss 0.028533821666989853 accuracy 0.9943386515697374\n",
            "Val loss 0.18038825715051188 accuracy 0.9728894989704873\n",
            "\n",
            "Epoch 5/10\n",
            "----------\n",
            "Train loss 0.018355956813853488 accuracy 0.9964402127294562\n",
            "Val loss 0.1907780881795146 accuracy 0.9722031571722718\n",
            "\n",
            "Epoch 6/10\n",
            "----------\n",
            "Train loss 0.012449429703218187 accuracy 0.9976839938239834\n",
            "Val loss 0.20984438815785672 accuracy 0.9739190116678106\n",
            "\n",
            "Epoch 7/10\n",
            "----------\n",
            "Train loss 0.0076383981776826934 accuracy 0.9986704408989534\n",
            "Val loss 0.19255672085096617 accuracy 0.9752916952642415\n",
            "\n",
            "Epoch 8/10\n",
            "----------\n",
            "Train loss 0.00658084475383791 accuracy 0.9988419969119917\n",
            "Val loss 0.18985815525949198 accuracy 0.9770075497597803\n",
            "\n",
            "Epoch 9/10\n",
            "----------\n",
            "Train loss 0.004267821531211217 accuracy 0.9991851089380682\n",
            "Val loss 0.20164390596311207 accuracy 0.9752916952642415\n",
            "\n",
            "Epoch 10/10\n",
            "----------\n",
            "Train loss 0.002646288203493831 accuracy 0.9996139989706638\n",
            "Val loss 0.2068376753420816 accuracy 0.9766643788606726\n",
            "\n",
            "CPU times: user 30min 15s, sys: 12min 52s, total: 43min 8s\n",
            "Wall time: 43min 39s\n"
          ],
          "name": "stdout"
        }
      ]
    },
    {
      "cell_type": "code",
      "metadata": {
        "id": "9dLiPdc6xMCr",
        "colab_type": "code",
        "colab": {
          "base_uri": "https://localhost:8080/",
          "height": 523
        },
        "outputId": "98c56776-7b84-4051-edb1-3bff7d418301"
      },
      "source": [
        "plt.plot(history['train_acc'], label='train_acc')\n",
        "plt.plot(history['val_acc'],label='val_acc')\n",
        "plt.title('Accuracy_plot')\n",
        "plt.ylabel('Accuracy')\n",
        "plt.xlabel('Epoch')\n",
        "plt.legend()\n",
        "plt.ylim([0,1])\n",
        "plt.savefig('/content/drive/My Drive/256 project/Figures/accuracyplot.svg')"
      ],
      "execution_count": 65,
      "outputs": [
        {
          "output_type": "display_data",
          "data": {
            "image/png": "[encoded data removed]",
            "text/plain": [
              "<Figure size 864x576 with 1 Axes>"
            ]
          },
          "metadata": {
            "tags": [],
            "image/png": {
              "width": 732,
              "height": 506
            }
          }
        }
      ]
    },
    {
      "cell_type": "markdown",
      "metadata": {
        "id": "WnP03cwWP0qd",
        "colab_type": "text"
      },
      "source": [
        "##Evaluation"
      ]
    },
    {
      "cell_type": "code",
      "metadata": {
        "id": "UMo47Q7C3ew2",
        "colab_type": "code",
        "colab": {
          "base_uri": "https://localhost:8080/",
          "height": 35
        },
        "outputId": "23119dc1-71d3-447f-e106-f1a6884d1e4c"
      },
      "source": [
        "test_acc,_ = eval_model(model,test_data_loader,loss_fn,device,len(test_data_loader.dataset))\n",
        "test_acc.item()"
      ],
      "execution_count": 66,
      "outputs": [
        {
          "output_type": "execute_result",
          "data": {
            "text/plain": [
              "0.9725557461406518"
            ]
          },
          "metadata": {
            "tags": []
          },
          "execution_count": 66
        }
      ]
    },
    {
      "cell_type": "code",
      "metadata": {
        "id": "KXo7kuVxQOen",
        "colab_type": "code",
        "colab": {}
      },
      "source": [
        "def get_predictions(model,data_loader):\n",
        "    model = model.eval()\n",
        "\n",
        "    tweets_texts=[]\n",
        "    predictions=[]\n",
        "    predictions_probs=[]\n",
        "    true_values=[]\n",
        "\n",
        "    with torch.no_grad():\n",
        "      for d in data_loader:\n",
        "          texts=d['tweet_text']\n",
        "          input_ids = d['input_ids'].to(torch.int64).to(device)\n",
        "          attention_mask = d[\"attention_mask\"].to(torch.int64).to(device)\n",
        "          targets = d['targets'].to(device)\n",
        "\n",
        "          outputs=model(\n",
        "              input_ids=input_ids,\n",
        "              attention_mask=attention_mask\n",
        "          )\n",
        "\n",
        "          _,preds = torch.max(outputs,dim=1)\n",
        "\n",
        "          tweets_texts.extend(texts)\n",
        "          predictions.extend(preds)\n",
        "          predictions_probs.extend(outputs)\n",
        "          true_values.extend(targets)\n",
        "\n",
        "      predictions = torch.stack(predictions).cpu()\n",
        "      predictions_probs = torch.stack(predictions_probs).cpu()\n",
        "      true_values = torch.stack(true_values).cpu()\n",
        "      return tweets_texts,predictions, predictions_probs, true_values"
      ],
      "execution_count": 69,
      "outputs": []
    },
    {
      "cell_type": "code",
      "metadata": {
        "id": "YzCVMYblTYER",
        "colab_type": "code",
        "colab": {}
      },
      "source": [
        "y_tweets_texts,y_pred,y_pred_probs,y_test=get_predictions(model,test_data_loader)"
      ],
      "execution_count": 70,
      "outputs": []
    },
    {
      "cell_type": "code",
      "metadata": {
        "id": "KF9xj5pkEDrW",
        "colab_type": "code",
        "colab": {
          "base_uri": "https://localhost:8080/",
          "height": 177
        },
        "outputId": "6218b74a-97cb-4449-c87a-2cd99f09f41b"
      },
      "source": [
        "print(y_pred)\n",
        "print(y_test)\n",
        "print(y_pred_probs)"
      ],
      "execution_count": 71,
      "outputs": [
        {
          "output_type": "stream",
          "text": [
            "tensor([0, 2, 1,  ..., 0, 1, 0])\n",
            "tensor([0, 2, 1,  ..., 0, 1, 0])\n",
            "tensor([[ 7.4157, -4.4494, -2.4618],\n",
            "        [-3.5938, -3.6156,  8.1886],\n",
            "        [-4.1535,  8.0557, -3.6430],\n",
            "        ...,\n",
            "        [ 7.4897, -4.4263, -2.6749],\n",
            "        [-4.5399,  7.6114, -3.0854],\n",
            "        [ 7.4683, -3.7314, -3.3012]])\n"
          ],
          "name": "stdout"
        }
      ]
    },
    {
      "cell_type": "code",
      "metadata": {
        "id": "j0SjLLWxW8tW",
        "colab_type": "code",
        "colab": {
          "base_uri": "https://localhost:8080/",
          "height": 195
        },
        "outputId": "83c8bfb8-5df2-4944-d381-ba77e8849685"
      },
      "source": [
        "print(classification_report(y_test, y_pred, target_names=class_names))"
      ],
      "execution_count": 72,
      "outputs": [
        {
          "output_type": "stream",
          "text": [
            "              precision    recall  f1-score   support\n",
            "\n",
            "    Negative       0.96      0.96      0.96       696\n",
            "     Neutral       0.98      0.98      0.98      1201\n",
            "    Positive       0.97      0.98      0.97      1018\n",
            "\n",
            "    accuracy                           0.97      2915\n",
            "   macro avg       0.97      0.97      0.97      2915\n",
            "weighted avg       0.97      0.97      0.97      2915\n",
            "\n"
          ],
          "name": "stdout"
        }
      ]
    },
    {
      "cell_type": "code",
      "metadata": {
        "id": "qRQeJLpN-cbO",
        "colab_type": "code",
        "colab": {
          "base_uri": "https://localhost:8080/",
          "height": 506
        },
        "outputId": "1ab89c0b-8c85-424d-90a5-8ffcfc77de99"
      },
      "source": [
        "def show_confusion_matrix(confusion_matrix):\n",
        "  heatmap = sns.heatmap(confusion_matrix, annot=True, fmt=\"d\", cmap=\"Blues\")\n",
        "  heatmap.xaxis.set_ticklabels(heatmap.xaxis.get_ticklabels(), ha='right')\n",
        "  heatmap.yaxis.set_ticklabels(heatmap.yaxis.get_ticklabels(), ha='right')\n",
        "  plt.xlabel('Predicted sentiment');\n",
        "  plt.ylabel('True sentiment')\n",
        "cm = confusion_matrix(y_test, y_pred)\n",
        "dfvader_cm = pd.DataFrame(cm, index=class_names, columns=class_names)\n",
        "show_confusion_matrix(dfvader_cm)\n",
        "plt.savefig('/content/drive/My Drive/256 project/Figures/confusionmatrix.svg')"
      ],
      "execution_count": 73,
      "outputs": [
        {
          "output_type": "display_data",
          "data": {
            "image/png": "[encoded data removed]",
            "text/plain": [
              "<Figure size 864x576 with 2 Axes>"
            ]
          },
          "metadata": {
            "tags": [],
            "image/png": {
              "width": 688,
              "height": 489
            }
          }
        }
      ]
    },
    {
      "cell_type": "code",
      "metadata": {
        "id": "p2wXHOEyYT6t",
        "colab_type": "code",
        "colab": {
          "base_uri": "https://localhost:8080/",
          "height": 1000
        },
        "outputId": "453d54c8-22d6-4b42-959c-2f9f7b227e05"
      },
      "source": [
        "import random\n",
        "idx = 19\n",
        "\n",
        "for i in range(25):\n",
        "    idx = random.randint(0,len(test_data_loader.dataset))\n",
        "    tweet_text = y_tweets_texts[idx]\n",
        "    true_sentiment = y_test[idx]\n",
        "    pred_sentiment = y_pred[idx]\n",
        "    print(f'Index: {idx}')\n",
        "    print(\"\\n\".join(wrap(tweet_text)))\n",
        "    print(f'True sentiment: {class_names[true_sentiment]}')\n",
        "    print(f'Pred sentiment: {class_names[pred_sentiment]}')\n",
        "    print()"
      ],
      "execution_count": 74,
      "outputs": [
        {
          "output_type": "stream",
          "text": [
            "Index: 1369\n",
            "callout people whore trying live chronicpain coronavirusif experience\n",
            "persistant pain amp\n",
            "True sentiment: Negative\n",
            "Pred sentiment: Negative\n",
            "\n",
            "Index: 193\n",
            "publichealth england woefully misleading exaggerated death statistics\n",
            "scandal fed fear mad\n",
            "True sentiment: Negative\n",
            "Pred sentiment: Negative\n",
            "\n",
            "Index: 2905\n",
            "miss days coronavirus pandemiclearn new expression describes\n",
            "True sentiment: Negative\n",
            "Pred sentiment: Negative\n",
            "\n",
            "Index: 2499\n",
            "indiana school forced quarantines students child contracts covid19\n",
            "first day school thesource covid19\n",
            "True sentiment: Negative\n",
            "Pred sentiment: Negative\n",
            "\n",
            "Index: 714\n",
            "simple common sense wearing facial maskmt socialdistancing coronavirus\n",
            "covid19 health covid19 wfh\n",
            "True sentiment: Neutral\n",
            "Pred sentiment: Neutral\n",
            "\n",
            "Index: 642\n",
            "exams2020 covid19 india10 days lockdown declared puneother\n",
            "citiesstates may declared various lockdo\n",
            "True sentiment: Neutral\n",
            "Pred sentiment: Neutral\n",
            "\n",
            "Index: 1048\n",
            "democratic group warns unprepared distribute covid19 vaccine via\n",
            "True sentiment: Negative\n",
            "Pred sentiment: Negative\n",
            "\n",
            "Index: 2637\n",
            "watch see coronavirus spreading faster across california read cdc\n",
            "coronavi\n",
            "True sentiment: Neutral\n",
            "Pred sentiment: Neutral\n",
            "\n",
            "Index: 2878\n",
            "heres another story covid19 coronavirus pandemic coronavirusstories\n",
            "covid19\n",
            "True sentiment: Neutral\n",
            "Pred sentiment: Neutral\n",
            "\n",
            "Index: 2202\n",
            "covid19 epidemic projected worsenthe nearuniversal use masks could\n",
            "save 40000 lives novemberht\n",
            "True sentiment: Positive\n",
            "Pred sentiment: Positive\n",
            "\n",
            "Index: 2307\n",
            "covid19 cases surging around debatable whether maskup\n",
            "True sentiment: Neutral\n",
            "Pred sentiment: Neutral\n",
            "\n",
            "Index: 0\n",
            "covid19 ssh research healthcare workers amp experiences racism\n",
            "pandemic coronavi\n",
            "True sentiment: Negative\n",
            "Pred sentiment: Negative\n",
            "\n",
            "Index: 2419\n",
            "trump wears coronavirus mask publicly first time visit walter reed\n",
            "military hospital read\n",
            "True sentiment: Neutral\n",
            "Pred sentiment: Neutral\n",
            "\n",
            "Index: 1022\n",
            "missed herdimmunity change course outbreak coronavirus pandemic\n",
            "covid19\n",
            "True sentiment: Negative\n",
            "Pred sentiment: Negative\n",
            "\n",
            "Index: 1376\n",
            "silver lining amidst chaoswe poorvikamobiles thank amp salute heroes\n",
            "behind indias first indigenous\n",
            "True sentiment: Positive\n",
            "Pred sentiment: Positive\n",
            "\n",
            "Index: 611\n",
            "learn developing back workplace framework pass coming employee\n",
            "referendum recen\n",
            "True sentiment: Neutral\n",
            "Pred sentiment: Neutral\n",
            "\n",
            "Index: 1665\n",
            "frontlines australias pandemic outbreak melbourne grateful lisa\n",
            "colleagues\n",
            "True sentiment: Positive\n",
            "Pred sentiment: Positive\n",
            "\n",
            "Index: 631\n",
            "hundreds people celebrated july weekend michigan lake covid19those\n",
            "tested positive werent\n",
            "True sentiment: Positive\n",
            "Pred sentiment: Positive\n",
            "\n",
            "Index: 1055\n",
            "voice tech relieve stress healthcare post covid19 healthcare guys\n",
            "True sentiment: Negative\n",
            "Pred sentiment: Negative\n",
            "\n",
            "Index: 1091\n",
            "good know age financialstress socialwork socialworkers\n",
            "financialsocialwork coronavirus covid19\n",
            "True sentiment: Positive\n",
            "Pred sentiment: Positive\n",
            "\n",
            "Index: 2332\n",
            "telling children story pandemic new york times via\n",
            "True sentiment: Neutral\n",
            "Pred sentiment: Neutral\n",
            "\n",
            "Index: 1112\n",
            "coronavirus test could cost little much 850 read cdc\n",
            "True sentiment: Neutral\n",
            "Pred sentiment: Neutral\n",
            "\n",
            "Index: 2380\n",
            "covid19 coronavirus pandemiclast updated july 2020 2217 gmtindia usa\n",
            "mexico safrica iran brazil russi\n",
            "True sentiment: Neutral\n",
            "Pred sentiment: Neutral\n",
            "\n",
            "Index: 2676\n",
            "fauci says important thing fight coronaviruscheck\n",
            "True sentiment: Negative\n",
            "Pred sentiment: Negative\n",
            "\n",
            "Index: 1242\n",
            "russias covid19 strain come china russia coronavirus covid19 pandemic\n",
            "china\n",
            "True sentiment: Negative\n",
            "Pred sentiment: Negative\n",
            "\n"
          ],
          "name": "stdout"
        }
      ]
    },
    {
      "cell_type": "code",
      "metadata": {
        "id": "Fjj4ymqdXZV7",
        "colab_type": "code",
        "colab": {}
      },
      "source": [
        ""
      ],
      "execution_count": null,
      "outputs": []
    }
  ]
}