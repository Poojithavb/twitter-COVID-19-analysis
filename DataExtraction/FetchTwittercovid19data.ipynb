{
  "nbformat": 4,
  "nbformat_minor": 0,
  "metadata": {
    "colab": {
      "name": "FetchTwittercovid19data.ipynb",
      "provenance": [],
      "collapsed_sections": [],
      "include_colab_link": true
    },
    "kernelspec": {
      "display_name": "Python 3",
      "language": "python",
      "name": "python3"
    },
    "language_info": {
      "codemirror_mode": {
        "name": "ipython",
        "version": 3
      },
      "file_extension": ".py",
      "mimetype": "text/x-python",
      "name": "python",
      "nbconvert_exporter": "python",
      "pygments_lexer": "ipython3",
      "version": "3.7.4"
    }
  },
  "cells": [
    {
      "cell_type": "markdown",
      "metadata": {
        "id": "view-in-github",
        "colab_type": "text"
      },
      "source": [
        "<a href=\"https://colab.research.google.com/github/rakshitha-sathyakumar/twitter-COVID-19-analysis/blob/master/DataExtraction/FetchTwittercovid19data.ipynb\" target=\"_parent\"><img src=\"https://colab.research.google.com/assets/colab-badge.svg\" alt=\"Open In Colab\"/></a>"
      ]
    },
    {
      "cell_type": "code",
      "metadata": {
        "id": "Ko19Ew0Fk7Wp",
        "colab_type": "code",
        "colab": {
          "base_uri": "https://localhost:8080/",
          "height": 120
        },
        "outputId": "0fce15a2-3cf4-4790-ff60-6cf889e65c57"
      },
      "source": [
        "from google.colab import drive\n",
        "drive.mount('/content/drive')"
      ],
      "execution_count": null,
      "outputs": [
        {
          "output_type": "stream",
          "text": [
            "Go to this URL in a browser: https://accounts.google.com/o/oauth2/auth?client_id=947318989803-6bn6qk8qdgf4n4g3pfee6491hc0brc4i.apps.googleusercontent.com&redirect_uri=urn%3aietf%3awg%3aoauth%3a2.0%3aoob&response_type=code&scope=email%20https%3a%2f%2fwww.googleapis.com%2fauth%2fdocs.test%20https%3a%2f%2fwww.googleapis.com%2fauth%2fdrive%20https%3a%2f%2fwww.googleapis.com%2fauth%2fdrive.photos.readonly%20https%3a%2f%2fwww.googleapis.com%2fauth%2fpeopleapi.readonly\n",
            "\n",
            "Enter your authorization code:\n",
            "··········\n",
            "Mounted at /content/drive\n"
          ],
          "name": "stdout"
        }
      ]
    },
    {
      "cell_type": "code",
      "metadata": {
        "colab_type": "code",
        "id": "mAX5xfWqjHVh",
        "colab": {}
      },
      "source": [
        "import os\n",
        "import tweepy as tp\n",
        "import pandas as pd\n",
        "import tweepy"
      ],
      "execution_count": null,
      "outputs": []
    },
    {
      "cell_type": "code",
      "metadata": {
        "colab_type": "code",
        "id": "qVQ9321CjSa_",
        "colab": {}
      },
      "source": [
        "consumer_key= 'fQZG1sAXiQfi3RN7u21qzO0Wc'\n",
        "consumer_secret= 'b8CeivpwKOCUow75TJbIEwsbks2z6ERUe9BcjjIbsFE7fl9WSC'\n",
        "access_token= '317058004-9Nhc7mIxRMidV9ah9LmKvcQ3DOttd3oZMiOWTtLV'\n",
        "access_token_secret= 'h9CbeeQWUPJQJwHSae7r6D6qIUAq6au6o8ERUNP1fijeX'"
      ],
      "execution_count": null,
      "outputs": []
    },
    {
      "cell_type": "code",
      "metadata": {
        "colab_type": "code",
        "id": "ZqrJTwYUjoCu",
        "colab": {}
      },
      "source": [
        "auth = tp.OAuthHandler(consumer_key,consumer_secret)\n",
        "auth.set_access_token(access_token,access_token_secret)\n",
        "api = tp.API(auth,wait_on_rate_limit=True)"
      ],
      "execution_count": null,
      "outputs": []
    },
    {
      "cell_type": "code",
      "metadata": {
        "colab_type": "code",
        "id": "UUHiYDPAkiog",
        "colab": {}
      },
      "source": [
        "tweets = tweepy.Cursor(api.search,q=[\"#coronavirus, #covid19, #pandemic\"], count = 3000,\n",
        "                           lang=\"en\",\n",
        "                           since=\"2020-07-27\").items()"
      ],
      "execution_count": null,
      "outputs": []
    },
    {
      "cell_type": "code",
      "metadata": {
        "colab_type": "code",
        "id": "7iTL4AUpk7t4",
        "colab": {
          "base_uri": "https://localhost:8080/",
          "height": 33
        },
        "outputId": "434511da-e4a5-4794-f0d6-aae63aa2926d"
      },
      "source": [
        "tweets"
      ],
      "execution_count": null,
      "outputs": [
        {
          "output_type": "execute_result",
          "data": {
            "text/plain": [
              "<tweepy.cursor.ItemIterator at 0x7fb29a307828>"
            ]
          },
          "metadata": {
            "tags": []
          },
          "execution_count": 6
        }
      ]
    },
    {
      "cell_type": "code",
      "metadata": {
        "colab_type": "code",
        "id": "Pa0Qzmakk8aW",
        "colab": {}
      },
      "source": [
        "data = next(iter(tweets))"
      ],
      "execution_count": null,
      "outputs": []
    },
    {
      "cell_type": "code",
      "metadata": {
        "colab_type": "code",
        "id": "v_asAikZlAXa",
        "colab": {
          "base_uri": "https://localhost:8080/",
          "height": 53
        },
        "outputId": "6358854c-4186-4878-873f-2a8c2fe38429"
      },
      "source": [
        "data"
      ],
      "execution_count": null,
      "outputs": [
        {
          "output_type": "execute_result",
          "data": {
            "text/plain": [
              "Status(_api=<tweepy.api.API object at 0x7fb29a307470>, _json={'created_at': 'Tue Aug 04 05:40:04 +0000 2020', 'id': 1290522872125956096, 'id_str': '1290522872125956096', 'text': 'RT @DawnRoseTurner: #COVID19 #pandemic:\\n#Coronavirus travel restrictions inspire cooperation in border communities | @globalnews https://t.…', 'truncated': False, 'entities': {'hashtags': [{'text': 'COVID19', 'indices': [20, 28]}, {'text': 'pandemic', 'indices': [29, 38]}, {'text': 'Coronavirus', 'indices': [40, 52]}], 'symbols': [], 'user_mentions': [{'screen_name': 'DawnRoseTurner', 'name': 'Dawn Rose Turner', 'id': 35692915, 'id_str': '35692915', 'indices': [3, 18]}, {'screen_name': 'globalnews', 'name': 'Globalnews.ca', 'id': 116502194, 'id_str': '116502194', 'indices': [117, 128]}], 'urls': []}, 'metadata': {'iso_language_code': 'en', 'result_type': 'recent'}, 'source': '<a href=\"http://twitter.com/download/android\" rel=\"nofollow\">Twitter for Android</a>', 'in_reply_to_status_id': None, 'in_reply_to_status_id_str': None, 'in_reply_to_user_id': None, 'in_reply_to_user_id_str': None, 'in_reply_to_screen_name': None, 'user': {'id': 35692915, 'id_str': '35692915', 'name': 'Dawn Rose Turner', 'screen_name': 'DawnRoseTurner', 'location': 'Comox Valley, BC', 'description': 'Perpetually curious', 'url': None, 'entities': {'description': {'urls': []}}, 'protected': False, 'followers_count': 5007, 'friends_count': 5452, 'listed_count': 352, 'created_at': 'Mon Apr 27 07:08:59 +0000 2009', 'favourites_count': 167229, 'utc_offset': None, 'time_zone': None, 'geo_enabled': True, 'verified': False, 'statuses_count': 370762, 'lang': None, 'contributors_enabled': False, 'is_translator': False, 'is_translation_enabled': False, 'profile_background_color': '642D8B', 'profile_background_image_url': 'http://abs.twimg.com/images/themes/theme10/bg.gif', 'profile_background_image_url_https': 'https://abs.twimg.com/images/themes/theme10/bg.gif', 'profile_background_tile': True, 'profile_image_url': 'http://pbs.twimg.com/profile_images/1602303495/SM_fairy_avatar_normal.jpg', 'profile_image_url_https': 'https://pbs.twimg.com/profile_images/1602303495/SM_fairy_avatar_normal.jpg', 'profile_link_color': 'FF0000', 'profile_sidebar_border_color': '65B0DA', 'profile_sidebar_fill_color': '7AC3EE', 'profile_text_color': '3D1957', 'profile_use_background_image': True, 'has_extended_profile': False, 'default_profile': False, 'default_profile_image': False, 'following': False, 'follow_request_sent': False, 'notifications': False, 'translator_type': 'none'}, 'geo': None, 'coordinates': None, 'place': None, 'contributors': None, 'retweeted_status': {'created_at': 'Mon Aug 03 15:19:49 +0000 2020', 'id': 1290306383384961024, 'id_str': '1290306383384961024', 'text': '#COVID19 #pandemic:\\n#Coronavirus travel restrictions inspire cooperation in border communities | @globalnews https://t.co/5pdj5aQsA5', 'truncated': False, 'entities': {'hashtags': [{'text': 'COVID19', 'indices': [0, 8]}, {'text': 'pandemic', 'indices': [9, 18]}, {'text': 'Coronavirus', 'indices': [20, 32]}], 'symbols': [], 'user_mentions': [{'screen_name': 'globalnews', 'name': 'Globalnews.ca', 'id': 116502194, 'id_str': '116502194', 'indices': [97, 108]}], 'urls': [{'url': 'https://t.co/5pdj5aQsA5', 'expanded_url': 'https://globalnews.ca/news/7245658/coronavirus-border-towns-cooperation/', 'display_url': 'globalnews.ca/news/7245658/c…', 'indices': [109, 132]}]}, 'metadata': {'iso_language_code': 'en', 'result_type': 'recent'}, 'source': '<a href=\"http://twitter.com/download/android\" rel=\"nofollow\">Twitter for Android</a>', 'in_reply_to_status_id': None, 'in_reply_to_status_id_str': None, 'in_reply_to_user_id': None, 'in_reply_to_user_id_str': None, 'in_reply_to_screen_name': None, 'user': {'id': 35692915, 'id_str': '35692915', 'name': 'Dawn Rose Turner', 'screen_name': 'DawnRoseTurner', 'location': 'Comox Valley, BC', 'description': 'Perpetually curious', 'url': None, 'entities': {'description': {'urls': []}}, 'protected': False, 'followers_count': 5007, 'friends_count': 5452, 'listed_count': 352, 'created_at': 'Mon Apr 27 07:08:59 +0000 2009', 'favourites_count': 167229, 'utc_offset': None, 'time_zone': None, 'geo_enabled': True, 'verified': False, 'statuses_count': 370762, 'lang': None, 'contributors_enabled': False, 'is_translator': False, 'is_translation_enabled': False, 'profile_background_color': '642D8B', 'profile_background_image_url': 'http://abs.twimg.com/images/themes/theme10/bg.gif', 'profile_background_image_url_https': 'https://abs.twimg.com/images/themes/theme10/bg.gif', 'profile_background_tile': True, 'profile_image_url': 'http://pbs.twimg.com/profile_images/1602303495/SM_fairy_avatar_normal.jpg', 'profile_image_url_https': 'https://pbs.twimg.com/profile_images/1602303495/SM_fairy_avatar_normal.jpg', 'profile_link_color': 'FF0000', 'profile_sidebar_border_color': '65B0DA', 'profile_sidebar_fill_color': '7AC3EE', 'profile_text_color': '3D1957', 'profile_use_background_image': True, 'has_extended_profile': False, 'default_profile': False, 'default_profile_image': False, 'following': False, 'follow_request_sent': False, 'notifications': False, 'translator_type': 'none'}, 'geo': None, 'coordinates': None, 'place': None, 'contributors': None, 'is_quote_status': False, 'retweet_count': 5, 'favorite_count': 4, 'favorited': False, 'retweeted': False, 'possibly_sensitive': False, 'lang': 'en'}, 'is_quote_status': False, 'retweet_count': 5, 'favorite_count': 0, 'favorited': False, 'retweeted': False, 'lang': 'en'}, created_at=datetime.datetime(2020, 8, 4, 5, 40, 4), id=1290522872125956096, id_str='1290522872125956096', text='RT @DawnRoseTurner: #COVID19 #pandemic:\\n#Coronavirus travel restrictions inspire cooperation in border communities | @globalnews https://t.…', truncated=False, entities={'hashtags': [{'text': 'COVID19', 'indices': [20, 28]}, {'text': 'pandemic', 'indices': [29, 38]}, {'text': 'Coronavirus', 'indices': [40, 52]}], 'symbols': [], 'user_mentions': [{'screen_name': 'DawnRoseTurner', 'name': 'Dawn Rose Turner', 'id': 35692915, 'id_str': '35692915', 'indices': [3, 18]}, {'screen_name': 'globalnews', 'name': 'Globalnews.ca', 'id': 116502194, 'id_str': '116502194', 'indices': [117, 128]}], 'urls': []}, metadata={'iso_language_code': 'en', 'result_type': 'recent'}, source='Twitter for Android', source_url='http://twitter.com/download/android', in_reply_to_status_id=None, in_reply_to_status_id_str=None, in_reply_to_user_id=None, in_reply_to_user_id_str=None, in_reply_to_screen_name=None, author=User(_api=<tweepy.api.API object at 0x7fb29a307470>, _json={'id': 35692915, 'id_str': '35692915', 'name': 'Dawn Rose Turner', 'screen_name': 'DawnRoseTurner', 'location': 'Comox Valley, BC', 'description': 'Perpetually curious', 'url': None, 'entities': {'description': {'urls': []}}, 'protected': False, 'followers_count': 5007, 'friends_count': 5452, 'listed_count': 352, 'created_at': 'Mon Apr 27 07:08:59 +0000 2009', 'favourites_count': 167229, 'utc_offset': None, 'time_zone': None, 'geo_enabled': True, 'verified': False, 'statuses_count': 370762, 'lang': None, 'contributors_enabled': False, 'is_translator': False, 'is_translation_enabled': False, 'profile_background_color': '642D8B', 'profile_background_image_url': 'http://abs.twimg.com/images/themes/theme10/bg.gif', 'profile_background_image_url_https': 'https://abs.twimg.com/images/themes/theme10/bg.gif', 'profile_background_tile': True, 'profile_image_url': 'http://pbs.twimg.com/profile_images/1602303495/SM_fairy_avatar_normal.jpg', 'profile_image_url_https': 'https://pbs.twimg.com/profile_images/1602303495/SM_fairy_avatar_normal.jpg', 'profile_link_color': 'FF0000', 'profile_sidebar_border_color': '65B0DA', 'profile_sidebar_fill_color': '7AC3EE', 'profile_text_color': '3D1957', 'profile_use_background_image': True, 'has_extended_profile': False, 'default_profile': False, 'default_profile_image': False, 'following': False, 'follow_request_sent': False, 'notifications': False, 'translator_type': 'none'}, id=35692915, id_str='35692915', name='Dawn Rose Turner', screen_name='DawnRoseTurner', location='Comox Valley, BC', description='Perpetually curious', url=None, entities={'description': {'urls': []}}, protected=False, followers_count=5007, friends_count=5452, listed_count=352, created_at=datetime.datetime(2009, 4, 27, 7, 8, 59), favourites_count=167229, utc_offset=None, time_zone=None, geo_enabled=True, verified=False, statuses_count=370762, lang=None, contributors_enabled=False, is_translator=False, is_translation_enabled=False, profile_background_color='642D8B', profile_background_image_url='http://abs.twimg.com/images/themes/theme10/bg.gif', profile_background_image_url_https='https://abs.twimg.com/images/themes/theme10/bg.gif', profile_background_tile=True, profile_image_url='http://pbs.twimg.com/profile_images/1602303495/SM_fairy_avatar_normal.jpg', profile_image_url_https='https://pbs.twimg.com/profile_images/1602303495/SM_fairy_avatar_normal.jpg', profile_link_color='FF0000', profile_sidebar_border_color='65B0DA', profile_sidebar_fill_color='7AC3EE', profile_text_color='3D1957', profile_use_background_image=True, has_extended_profile=False, default_profile=False, default_profile_image=False, following=False, follow_request_sent=False, notifications=False, translator_type='none'), user=User(_api=<tweepy.api.API object at 0x7fb29a307470>, _json={'id': 35692915, 'id_str': '35692915', 'name': 'Dawn Rose Turner', 'screen_name': 'DawnRoseTurner', 'location': 'Comox Valley, BC', 'description': 'Perpetually curious', 'url': None, 'entities': {'description': {'urls': []}}, 'protected': False, 'followers_count': 5007, 'friends_count': 5452, 'listed_count': 352, 'created_at': 'Mon Apr 27 07:08:59 +0000 2009', 'favourites_count': 167229, 'utc_offset': None, 'time_zone': None, 'geo_enabled': True, 'verified': False, 'statuses_count': 370762, 'lang': None, 'contributors_enabled': False, 'is_translator': False, 'is_translation_enabled': False, 'profile_background_color': '642D8B', 'profile_background_image_url': 'http://abs.twimg.com/images/themes/theme10/bg.gif', 'profile_background_image_url_https': 'https://abs.twimg.com/images/themes/theme10/bg.gif', 'profile_background_tile': True, 'profile_image_url': 'http://pbs.twimg.com/profile_images/1602303495/SM_fairy_avatar_normal.jpg', 'profile_image_url_https': 'https://pbs.twimg.com/profile_images/1602303495/SM_fairy_avatar_normal.jpg', 'profile_link_color': 'FF0000', 'profile_sidebar_border_color': '65B0DA', 'profile_sidebar_fill_color': '7AC3EE', 'profile_text_color': '3D1957', 'profile_use_background_image': True, 'has_extended_profile': False, 'default_profile': False, 'default_profile_image': False, 'following': False, 'follow_request_sent': False, 'notifications': False, 'translator_type': 'none'}, id=35692915, id_str='35692915', name='Dawn Rose Turner', screen_name='DawnRoseTurner', location='Comox Valley, BC', description='Perpetually curious', url=None, entities={'description': {'urls': []}}, protected=False, followers_count=5007, friends_count=5452, listed_count=352, created_at=datetime.datetime(2009, 4, 27, 7, 8, 59), favourites_count=167229, utc_offset=None, time_zone=None, geo_enabled=True, verified=False, statuses_count=370762, lang=None, contributors_enabled=False, is_translator=False, is_translation_enabled=False, profile_background_color='642D8B', profile_background_image_url='http://abs.twimg.com/images/themes/theme10/bg.gif', profile_background_image_url_https='https://abs.twimg.com/images/themes/theme10/bg.gif', profile_background_tile=True, profile_image_url='http://pbs.twimg.com/profile_images/1602303495/SM_fairy_avatar_normal.jpg', profile_image_url_https='https://pbs.twimg.com/profile_images/1602303495/SM_fairy_avatar_normal.jpg', profile_link_color='FF0000', profile_sidebar_border_color='65B0DA', profile_sidebar_fill_color='7AC3EE', profile_text_color='3D1957', profile_use_background_image=True, has_extended_profile=False, default_profile=False, default_profile_image=False, following=False, follow_request_sent=False, notifications=False, translator_type='none'), geo=None, coordinates=None, place=None, contributors=None, retweeted_status=Status(_api=<tweepy.api.API object at 0x7fb29a307470>, _json={'created_at': 'Mon Aug 03 15:19:49 +0000 2020', 'id': 1290306383384961024, 'id_str': '1290306383384961024', 'text': '#COVID19 #pandemic:\\n#Coronavirus travel restrictions inspire cooperation in border communities | @globalnews https://t.co/5pdj5aQsA5', 'truncated': False, 'entities': {'hashtags': [{'text': 'COVID19', 'indices': [0, 8]}, {'text': 'pandemic', 'indices': [9, 18]}, {'text': 'Coronavirus', 'indices': [20, 32]}], 'symbols': [], 'user_mentions': [{'screen_name': 'globalnews', 'name': 'Globalnews.ca', 'id': 116502194, 'id_str': '116502194', 'indices': [97, 108]}], 'urls': [{'url': 'https://t.co/5pdj5aQsA5', 'expanded_url': 'https://globalnews.ca/news/7245658/coronavirus-border-towns-cooperation/', 'display_url': 'globalnews.ca/news/7245658/c…', 'indices': [109, 132]}]}, 'metadata': {'iso_language_code': 'en', 'result_type': 'recent'}, 'source': '<a href=\"http://twitter.com/download/android\" rel=\"nofollow\">Twitter for Android</a>', 'in_reply_to_status_id': None, 'in_reply_to_status_id_str': None, 'in_reply_to_user_id': None, 'in_reply_to_user_id_str': None, 'in_reply_to_screen_name': None, 'user': {'id': 35692915, 'id_str': '35692915', 'name': 'Dawn Rose Turner', 'screen_name': 'DawnRoseTurner', 'location': 'Comox Valley, BC', 'description': 'Perpetually curious', 'url': None, 'entities': {'description': {'urls': []}}, 'protected': False, 'followers_count': 5007, 'friends_count': 5452, 'listed_count': 352, 'created_at': 'Mon Apr 27 07:08:59 +0000 2009', 'favourites_count': 167229, 'utc_offset': None, 'time_zone': None, 'geo_enabled': True, 'verified': False, 'statuses_count': 370762, 'lang': None, 'contributors_enabled': False, 'is_translator': False, 'is_translation_enabled': False, 'profile_background_color': '642D8B', 'profile_background_image_url': 'http://abs.twimg.com/images/themes/theme10/bg.gif', 'profile_background_image_url_https': 'https://abs.twimg.com/images/themes/theme10/bg.gif', 'profile_background_tile': True, 'profile_image_url': 'http://pbs.twimg.com/profile_images/1602303495/SM_fairy_avatar_normal.jpg', 'profile_image_url_https': 'https://pbs.twimg.com/profile_images/1602303495/SM_fairy_avatar_normal.jpg', 'profile_link_color': 'FF0000', 'profile_sidebar_border_color': '65B0DA', 'profile_sidebar_fill_color': '7AC3EE', 'profile_text_color': '3D1957', 'profile_use_background_image': True, 'has_extended_profile': False, 'default_profile': False, 'default_profile_image': False, 'following': False, 'follow_request_sent': False, 'notifications': False, 'translator_type': 'none'}, 'geo': None, 'coordinates': None, 'place': None, 'contributors': None, 'is_quote_status': False, 'retweet_count': 5, 'favorite_count': 4, 'favorited': False, 'retweeted': False, 'possibly_sensitive': False, 'lang': 'en'}, created_at=datetime.datetime(2020, 8, 3, 15, 19, 49), id=1290306383384961024, id_str='1290306383384961024', text='#COVID19 #pandemic:\\n#Coronavirus travel restrictions inspire cooperation in border communities | @globalnews https://t.co/5pdj5aQsA5', truncated=False, entities={'hashtags': [{'text': 'COVID19', 'indices': [0, 8]}, {'text': 'pandemic', 'indices': [9, 18]}, {'text': 'Coronavirus', 'indices': [20, 32]}], 'symbols': [], 'user_mentions': [{'screen_name': 'globalnews', 'name': 'Globalnews.ca', 'id': 116502194, 'id_str': '116502194', 'indices': [97, 108]}], 'urls': [{'url': 'https://t.co/5pdj5aQsA5', 'expanded_url': 'https://globalnews.ca/news/7245658/coronavirus-border-towns-cooperation/', 'display_url': 'globalnews.ca/news/7245658/c…', 'indices': [109, 132]}]}, metadata={'iso_language_code': 'en', 'result_type': 'recent'}, source='Twitter for Android', source_url='http://twitter.com/download/android', in_reply_to_status_id=None, in_reply_to_status_id_str=None, in_reply_to_user_id=None, in_reply_to_user_id_str=None, in_reply_to_screen_name=None, author=User(_api=<tweepy.api.API object at 0x7fb29a307470>, _json={'id': 35692915, 'id_str': '35692915', 'name': 'Dawn Rose Turner', 'screen_name': 'DawnRoseTurner', 'location': 'Comox Valley, BC', 'description': 'Perpetually curious', 'url': None, 'entities': {'description': {'urls': []}}, 'protected': False, 'followers_count': 5007, 'friends_count': 5452, 'listed_count': 352, 'created_at': 'Mon Apr 27 07:08:59 +0000 2009', 'favourites_count': 167229, 'utc_offset': None, 'time_zone': None, 'geo_enabled': True, 'verified': False, 'statuses_count': 370762, 'lang': None, 'contributors_enabled': False, 'is_translator': False, 'is_translation_enabled': False, 'profile_background_color': '642D8B', 'profile_background_image_url': 'http://abs.twimg.com/images/themes/theme10/bg.gif', 'profile_background_image_url_https': 'https://abs.twimg.com/images/themes/theme10/bg.gif', 'profile_background_tile': True, 'profile_image_url': 'http://pbs.twimg.com/profile_images/1602303495/SM_fairy_avatar_normal.jpg', 'profile_image_url_https': 'https://pbs.twimg.com/profile_images/1602303495/SM_fairy_avatar_normal.jpg', 'profile_link_color': 'FF0000', 'profile_sidebar_border_color': '65B0DA', 'profile_sidebar_fill_color': '7AC3EE', 'profile_text_color': '3D1957', 'profile_use_background_image': True, 'has_extended_profile': False, 'default_profile': False, 'default_profile_image': False, 'following': False, 'follow_request_sent': False, 'notifications': False, 'translator_type': 'none'}, id=35692915, id_str='35692915', name='Dawn Rose Turner', screen_name='DawnRoseTurner', location='Comox Valley, BC', description='Perpetually curious', url=None, entities={'description': {'urls': []}}, protected=False, followers_count=5007, friends_count=5452, listed_count=352, created_at=datetime.datetime(2009, 4, 27, 7, 8, 59), favourites_count=167229, utc_offset=None, time_zone=None, geo_enabled=True, verified=False, statuses_count=370762, lang=None, contributors_enabled=False, is_translator=False, is_translation_enabled=False, profile_background_color='642D8B', profile_background_image_url='http://abs.twimg.com/images/themes/theme10/bg.gif', profile_background_image_url_https='https://abs.twimg.com/images/themes/theme10/bg.gif', profile_background_tile=True, profile_image_url='http://pbs.twimg.com/profile_images/1602303495/SM_fairy_avatar_normal.jpg', profile_image_url_https='https://pbs.twimg.com/profile_images/1602303495/SM_fairy_avatar_normal.jpg', profile_link_color='FF0000', profile_sidebar_border_color='65B0DA', profile_sidebar_fill_color='7AC3EE', profile_text_color='3D1957', profile_use_background_image=True, has_extended_profile=False, default_profile=False, default_profile_image=False, following=False, follow_request_sent=False, notifications=False, translator_type='none'), user=User(_api=<tweepy.api.API object at 0x7fb29a307470>, _json={'id': 35692915, 'id_str': '35692915', 'name': 'Dawn Rose Turner', 'screen_name': 'DawnRoseTurner', 'location': 'Comox Valley, BC', 'description': 'Perpetually curious', 'url': None, 'entities': {'description': {'urls': []}}, 'protected': False, 'followers_count': 5007, 'friends_count': 5452, 'listed_count': 352, 'created_at': 'Mon Apr 27 07:08:59 +0000 2009', 'favourites_count': 167229, 'utc_offset': None, 'time_zone': None, 'geo_enabled': True, 'verified': False, 'statuses_count': 370762, 'lang': None, 'contributors_enabled': False, 'is_translator': False, 'is_translation_enabled': False, 'profile_background_color': '642D8B', 'profile_background_image_url': 'http://abs.twimg.com/images/themes/theme10/bg.gif', 'profile_background_image_url_https': 'https://abs.twimg.com/images/themes/theme10/bg.gif', 'profile_background_tile': True, 'profile_image_url': 'http://pbs.twimg.com/profile_images/1602303495/SM_fairy_avatar_normal.jpg', 'profile_image_url_https': 'https://pbs.twimg.com/profile_images/1602303495/SM_fairy_avatar_normal.jpg', 'profile_link_color': 'FF0000', 'profile_sidebar_border_color': '65B0DA', 'profile_sidebar_fill_color': '7AC3EE', 'profile_text_color': '3D1957', 'profile_use_background_image': True, 'has_extended_profile': False, 'default_profile': False, 'default_profile_image': False, 'following': False, 'follow_request_sent': False, 'notifications': False, 'translator_type': 'none'}, id=35692915, id_str='35692915', name='Dawn Rose Turner', screen_name='DawnRoseTurner', location='Comox Valley, BC', description='Perpetually curious', url=None, entities={'description': {'urls': []}}, protected=False, followers_count=5007, friends_count=5452, listed_count=352, created_at=datetime.datetime(2009, 4, 27, 7, 8, 59), favourites_count=167229, utc_offset=None, time_zone=None, geo_enabled=True, verified=False, statuses_count=370762, lang=None, contributors_enabled=False, is_translator=False, is_translation_enabled=False, profile_background_color='642D8B', profile_background_image_url='http://abs.twimg.com/images/themes/theme10/bg.gif', profile_background_image_url_https='https://abs.twimg.com/images/themes/theme10/bg.gif', profile_background_tile=True, profile_image_url='http://pbs.twimg.com/profile_images/1602303495/SM_fairy_avatar_normal.jpg', profile_image_url_https='https://pbs.twimg.com/profile_images/1602303495/SM_fairy_avatar_normal.jpg', profile_link_color='FF0000', profile_sidebar_border_color='65B0DA', profile_sidebar_fill_color='7AC3EE', profile_text_color='3D1957', profile_use_background_image=True, has_extended_profile=False, default_profile=False, default_profile_image=False, following=False, follow_request_sent=False, notifications=False, translator_type='none'), geo=None, coordinates=None, place=None, contributors=None, is_quote_status=False, retweet_count=5, favorite_count=4, favorited=False, retweeted=False, possibly_sensitive=False, lang='en'), is_quote_status=False, retweet_count=5, favorite_count=0, favorited=False, retweeted=False, lang='en')"
            ]
          },
          "metadata": {
            "tags": []
          },
          "execution_count": 8
        }
      ]
    },
    {
      "cell_type": "code",
      "metadata": {
        "colab_type": "code",
        "id": "2q-Osx3YlBAy",
        "colab": {}
      },
      "source": [
        "data = [tweet for tweet in tweets]"
      ],
      "execution_count": null,
      "outputs": []
    },
    {
      "cell_type": "code",
      "metadata": {
        "colab_type": "code",
        "id": "0gQRllmglzPi",
        "colab": {}
      },
      "source": [
        "my_list_of_dicts = []\n",
        "for each_json_tweet in data:\n",
        "    my_list_of_dicts.append(each_json_tweet._json)"
      ],
      "execution_count": null,
      "outputs": []
    },
    {
      "cell_type": "code",
      "metadata": {
        "colab_type": "code",
        "id": "krY_xMbSmhfs",
        "colab": {}
      },
      "source": [
        "import json\n",
        "with open('tweet_json.txt', 'w') as file:\n",
        "        file.write(json.dumps(my_list_of_dicts, indent=4))"
      ],
      "execution_count": null,
      "outputs": []
    },
    {
      "cell_type": "code",
      "metadata": {
        "colab_type": "code",
        "id": "cTO_EwO-m-7O",
        "colab": {}
      },
      "source": [
        "def get_nested(data, *args):\n",
        "    if args and data:\n",
        "        element  = args[0]\n",
        "        if element:\n",
        "            value = data.get(element)\n",
        "            return value if len(args) == 1 else get_nested(value, *args[1:])"
      ],
      "execution_count": null,
      "outputs": []
    },
    {
      "cell_type": "code",
      "metadata": {
        "colab_type": "code",
        "id": "2FbNBfGeoMcH",
        "colab": {}
      },
      "source": [
        "my_demo_list = []\n",
        "with open('tweet_json.txt', encoding='utf-8') as json_file:  \n",
        "    all_data = json.load(json_file)\n",
        "    for each_dictionary in all_data:\n",
        "        each_dictionary[\"entities\"][\"hashtags\"]\n",
        "        created_at = each_dictionary['created_at']\n",
        "        tweet_id = each_dictionary['id']\n",
        "        whole_tweet = each_dictionary['text']\n",
        "        iso_language_code= each_dictionary['metadata'][\"iso_language_code\"]\n",
        "        result_type=each_dictionary['metadata']['result_type'] \n",
        "        source = each_dictionary['source']\n",
        "        user_id = each_dictionary['user']['id'] \n",
        "        user_name = each_dictionary['user']['name'] \n",
        "        user_location = each_dictionary['user']['location']\n",
        "        users_followers_count = each_dictionary['user']['followers_count']\n",
        "        statuses_count = each_dictionary['user']['statuses_count']\n",
        "        geo = each_dictionary['geo']\n",
        "        coordinates=each_dictionary['coordinates'] \n",
        "        retweeted_text = each_dictionary['retweeted_status'] = each_dictionary.get('text')\n",
        "        retweet_count = each_dictionary['retweet_count']\n",
        "        hashtags = \", \".join([hashtag_item['text'] for hashtag_item in each_dictionary['entities']['hashtags']])\n",
        "        favorite_count = each_dictionary['favorite_count']\n",
        "        only_url = whole_tweet[whole_tweet.find('https'):]\n",
        "        whole_source = each_dictionary['source']\n",
        "        \n",
        "       \n",
        "        retweeted_status = each_dictionary['retweeted_status'] = each_dictionary.get('retweeted_status', 'Original tweet')\n",
        "        if retweeted_status == 'Original tweet':\n",
        "            url = only_url\n",
        "        else:\n",
        "            retweeted_status = 'This is a retweet'\n",
        "            url = 'This is a retweet'\n",
        "\n",
        "        my_demo_list.append({'created_at': created_at,\n",
        "                             'tweet_id': str(tweet_id),\n",
        "                             'text':whole_tweet,\n",
        "                             'iso_language_code':iso_language_code,\n",
        "                             'result_type':result_type,\n",
        "                             'source': source,\n",
        "                             'user_id':user_id,\n",
        "                             'user_name':user_name,\n",
        "                             'user_location':user_location,\n",
        "                             'users_followers_count':users_followers_count,\n",
        "                             'statuses_count':statuses_count,\n",
        "                             'geo':geo,\n",
        "                             'coordinates':coordinates,\n",
        "                             'retweeted_text':retweeted_text,\n",
        "                             'retweet_count':retweet_count,\n",
        "                             'hashtags':hashtags,\n",
        "                             'favorite_count': int(favorite_count),\n",
        "                             'url': url,\n",
        "                             'retweeted_status': retweeted_status,\n",
        "                            })\n",
        "        covid_data = pd.DataFrame(my_demo_list, columns = ['created_at','tweet_id','text','iso_language_code','result_type', 'source','user_id',\n",
        "                                                           'user_name','user_location','users_followers_count','statuses_count','geo','coordinates',\n",
        "                                                          'retweeted_text','retweet_count', 'hashtags','favorite_count', \n",
        "                                                        'retweeted_status', 'url'])"
      ],
      "execution_count": null,
      "outputs": []
    },
    {
      "cell_type": "code",
      "metadata": {
        "colab_type": "code",
        "id": "V4yFuPIXo2pv",
        "colab": {
          "base_uri": "https://localhost:8080/",
          "height": 501
        },
        "outputId": "51a80c8a-b7e0-438d-872d-674363955da6"
      },
      "source": [
        "covid_data.head()"
      ],
      "execution_count": null,
      "outputs": [
        {
          "output_type": "execute_result",
          "data": {
            "text/html": [
              "<div>\n",
              "<style scoped>\n",
              "    .dataframe tbody tr th:only-of-type {\n",
              "        vertical-align: middle;\n",
              "    }\n",
              "\n",
              "    .dataframe tbody tr th {\n",
              "        vertical-align: top;\n",
              "    }\n",
              "\n",
              "    .dataframe thead th {\n",
              "        text-align: right;\n",
              "    }\n",
              "</style>\n",
              "<table border=\"1\" class=\"dataframe\">\n",
              "  <thead>\n",
              "    <tr style=\"text-align: right;\">\n",
              "      <th></th>\n",
              "      <th>created_at</th>\n",
              "      <th>tweet_id</th>\n",
              "      <th>text</th>\n",
              "      <th>iso_language_code</th>\n",
              "      <th>result_type</th>\n",
              "      <th>source</th>\n",
              "      <th>user_id</th>\n",
              "      <th>user_name</th>\n",
              "      <th>user_location</th>\n",
              "      <th>users_followers_count</th>\n",
              "      <th>statuses_count</th>\n",
              "      <th>geo</th>\n",
              "      <th>coordinates</th>\n",
              "      <th>retweeted_text</th>\n",
              "      <th>retweet_count</th>\n",
              "      <th>hashtags</th>\n",
              "      <th>favorite_count</th>\n",
              "      <th>retweeted_status</th>\n",
              "      <th>url</th>\n",
              "    </tr>\n",
              "  </thead>\n",
              "  <tbody>\n",
              "    <tr>\n",
              "      <th>0</th>\n",
              "      <td>Tue Aug 04 05:40:01 +0000 2020</td>\n",
              "      <td>1290522862621585415</td>\n",
              "      <td>🤦🏻‍♂️🤦🏻‍♂️🤦🏻‍♂️ O ... M ... G ... Just when yo...</td>\n",
              "      <td>en</td>\n",
              "      <td>recent</td>\n",
              "      <td>&lt;a href=\"https://mobile.twitter.com\" rel=\"nofo...</td>\n",
              "      <td>14128457</td>\n",
              "      <td>Toby Forage</td>\n",
              "      <td>Sydney, Australia</td>\n",
              "      <td>1518</td>\n",
              "      <td>18651</td>\n",
              "      <td>None</td>\n",
              "      <td>None</td>\n",
              "      <td>🤦🏻‍♂️🤦🏻‍♂️🤦🏻‍♂️ O ... M ... G ... Just when yo...</td>\n",
              "      <td>0</td>\n",
              "      <td>COVID19</td>\n",
              "      <td>0</td>\n",
              "      <td>This is a retweet</td>\n",
              "      <td>This is a retweet</td>\n",
              "    </tr>\n",
              "    <tr>\n",
              "      <th>1</th>\n",
              "      <td>Tue Aug 04 05:37:44 +0000 2020</td>\n",
              "      <td>1290522287389605889</td>\n",
              "      <td>Wow! Spain &amp;amp; France don’t have any new dai...</td>\n",
              "      <td>en</td>\n",
              "      <td>recent</td>\n",
              "      <td>&lt;a href=\"http://twitter.com/download/iphone\" r...</td>\n",
              "      <td>3242523302</td>\n",
              "      <td>Stray Turtle</td>\n",
              "      <td>California, USA</td>\n",
              "      <td>74</td>\n",
              "      <td>60615</td>\n",
              "      <td>None</td>\n",
              "      <td>None</td>\n",
              "      <td>Wow! Spain &amp;amp; France don’t have any new dai...</td>\n",
              "      <td>0</td>\n",
              "      <td></td>\n",
              "      <td>0</td>\n",
              "      <td>This is a retweet</td>\n",
              "      <td>This is a retweet</td>\n",
              "    </tr>\n",
              "    <tr>\n",
              "      <th>2</th>\n",
              "      <td>Tue Aug 04 05:36:34 +0000 2020</td>\n",
              "      <td>1290521991599009792</td>\n",
              "      <td>RT @CDWGWAGov: Emerging Technologies for Track...</td>\n",
              "      <td>en</td>\n",
              "      <td>recent</td>\n",
              "      <td>&lt;a href=\"https://twitter.com/datasciencebot_\" ...</td>\n",
              "      <td>1276058041389953024</td>\n",
              "      <td>The Data Science Bot</td>\n",
              "      <td></td>\n",
              "      <td>588</td>\n",
              "      <td>57258</td>\n",
              "      <td>None</td>\n",
              "      <td>None</td>\n",
              "      <td>RT @CDWGWAGov: Emerging Technologies for Track...</td>\n",
              "      <td>11</td>\n",
              "      <td>pandemic, bigdata, datascience, analytics, ai,...</td>\n",
              "      <td>0</td>\n",
              "      <td>This is a retweet</td>\n",
              "      <td>This is a retweet</td>\n",
              "    </tr>\n",
              "    <tr>\n",
              "      <th>3</th>\n",
              "      <td>Tue Aug 04 05:35:58 +0000 2020</td>\n",
              "      <td>1290521841157713920</td>\n",
              "      <td>RT @CDWGWAGov: Emerging Technologies for Track...</td>\n",
              "      <td>en</td>\n",
              "      <td>recent</td>\n",
              "      <td>&lt;a href=\"https://nlogn.in\" rel=\"nofollow\"&gt;nlog...</td>\n",
              "      <td>1260062769543434240</td>\n",
              "      <td>#100DaysOfCode</td>\n",
              "      <td></td>\n",
              "      <td>1435</td>\n",
              "      <td>187553</td>\n",
              "      <td>None</td>\n",
              "      <td>None</td>\n",
              "      <td>RT @CDWGWAGov: Emerging Technologies for Track...</td>\n",
              "      <td>11</td>\n",
              "      <td>pandemic, bigdata, datascience, analytics, ai,...</td>\n",
              "      <td>0</td>\n",
              "      <td>This is a retweet</td>\n",
              "      <td>This is a retweet</td>\n",
              "    </tr>\n",
              "    <tr>\n",
              "      <th>4</th>\n",
              "      <td>Tue Aug 04 05:35:53 +0000 2020</td>\n",
              "      <td>1290521819062165504</td>\n",
              "      <td>RT @CDWGWAGov: Emerging Technologies for Track...</td>\n",
              "      <td>en</td>\n",
              "      <td>recent</td>\n",
              "      <td>&lt;a href=\"https://addempsea.wordpress.com\" rel=...</td>\n",
              "      <td>1196874000837816320</td>\n",
              "      <td>quotesBot</td>\n",
              "      <td></td>\n",
              "      <td>907</td>\n",
              "      <td>136081</td>\n",
              "      <td>None</td>\n",
              "      <td>None</td>\n",
              "      <td>RT @CDWGWAGov: Emerging Technologies for Track...</td>\n",
              "      <td>11</td>\n",
              "      <td>pandemic, bigdata, datascience, analytics, ai,...</td>\n",
              "      <td>0</td>\n",
              "      <td>This is a retweet</td>\n",
              "      <td>This is a retweet</td>\n",
              "    </tr>\n",
              "  </tbody>\n",
              "</table>\n",
              "</div>"
            ],
            "text/plain": [
              "                       created_at  ...                url\n",
              "0  Tue Aug 04 05:40:01 +0000 2020  ...  This is a retweet\n",
              "1  Tue Aug 04 05:37:44 +0000 2020  ...  This is a retweet\n",
              "2  Tue Aug 04 05:36:34 +0000 2020  ...  This is a retweet\n",
              "3  Tue Aug 04 05:35:58 +0000 2020  ...  This is a retweet\n",
              "4  Tue Aug 04 05:35:53 +0000 2020  ...  This is a retweet\n",
              "\n",
              "[5 rows x 19 columns]"
            ]
          },
          "metadata": {
            "tags": []
          },
          "execution_count": 15
        }
      ]
    },
    {
      "cell_type": "code",
      "metadata": {
        "colab_type": "code",
        "id": "BQhqIenZpIoA",
        "colab": {
          "base_uri": "https://localhost:8080/",
          "height": 33
        },
        "outputId": "8f1ccb18-4e54-43f0-baa3-d6fe13b432ae"
      },
      "source": [
        "covid_data.shape"
      ],
      "execution_count": null,
      "outputs": [
        {
          "output_type": "execute_result",
          "data": {
            "text/plain": [
              "(9417, 19)"
            ]
          },
          "metadata": {
            "tags": []
          },
          "execution_count": 16
        }
      ]
    },
    {
      "cell_type": "code",
      "metadata": {
        "id": "8UnvzcEkpEWk",
        "colab_type": "code",
        "colab": {}
      },
      "source": [
        "covid_data.to_csv(\"/content/drive/My Drive/256/extract3_twitter_data.csv\")"
      ],
      "execution_count": null,
      "outputs": []
    },
    {
      "cell_type": "code",
      "metadata": {
        "id": "B0eMFf1TAMMv",
        "colab_type": "code",
        "colab": {}
      },
      "source": [
        ""
      ],
      "execution_count": null,
      "outputs": []
    }
  ]
}